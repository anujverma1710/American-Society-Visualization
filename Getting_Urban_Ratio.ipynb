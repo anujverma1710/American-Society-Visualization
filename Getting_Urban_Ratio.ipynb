{
 "cells": [
  {
   "cell_type": "code",
   "execution_count": 1,
   "metadata": {},
   "outputs": [
    {
     "name": "stdout",
     "output_type": "stream",
     "text": [
      "['STATE', 'A57AB1970', 'A57AC1970', 'A57AD1970', 'A57AB1980', 'A57AC1980', 'A57AD1980', 'A57AB1990', 'A57AC1990', 'A57AD1990', 'A57AB2000', 'A57AC2000', 'A57AD2000', 'A57AB2010', 'A57AC2010', 'A57AD2010']\n"
     ]
    }
   ],
   "source": [
    "import pandas as pd\n",
    "\n",
    "statecols = ['STATE']\n",
    "for i in range(1970, 2020, 10):\n",
    "    statecols.append(('A57AB'+str(i)))\n",
    "    statecols.append(('A57AC'+str(i)))\n",
    "    statecols.append(('A57AD'+str(i)))\n",
    "                                      \n",
    "print(statecols)                                "
   ]
  },
  {
   "cell_type": "code",
   "execution_count": 2,
   "metadata": {},
   "outputs": [
    {
     "data": {
      "text/plain": [
       "Index(['STATE', 'A57AB1970', 'A57AB1980', 'A57AB1990', 'A57AB2000',\n",
       "       'A57AB2010', 'A57AC1970', 'A57AC1980', 'A57AC1990', 'A57AC2000',\n",
       "       'A57AC2010', 'A57AD1970', 'A57AD1980', 'A57AD1990', 'A57AD2000',\n",
       "       'A57AD2010'],\n",
       "      dtype='object')"
      ]
     },
     "execution_count": 2,
     "metadata": {},
     "output_type": "execute_result"
    }
   ],
   "source": [
    "df = pd.read_csv('flaskDirectory/Dataset/nhgis0002_ts_nominal_state.csv', usecols=statecols)\n",
    "df.columns"
   ]
  },
  {
   "cell_type": "code",
   "execution_count": 3,
   "metadata": {},
   "outputs": [],
   "source": [
    "df.drop(df.index[[0]], inplace=True)"
   ]
  },
  {
   "cell_type": "code",
   "execution_count": 4,
   "metadata": {},
   "outputs": [],
   "source": [
    "df.fillna(value=0, inplace=True)"
   ]
  },
  {
   "cell_type": "code",
   "execution_count": 5,
   "metadata": {},
   "outputs": [],
   "source": [
    "k = [ i for i in df['STATE'] if i.endswith('Territory')]\n",
    "k.append('Puerto Rico')\n",
    "k.append('Persons in the Military')"
   ]
  },
  {
   "cell_type": "code",
   "execution_count": 6,
   "metadata": {},
   "outputs": [
    {
     "name": "stdout",
     "output_type": "stream",
     "text": [
      "['Alaska Territory', 'Arizona Territory', 'Arkansas Territory', 'Colorado Territory', 'Dakota Territory', 'Florida Territory', 'Hawaii Territory', 'Idaho Territory', 'Illinois Territory', 'Indian Territory', 'Indiana Territory', 'Iowa Territory', 'Kansas Territory', 'Louisiana Territory', 'Michigan Territory', 'Minnesota Territory', 'Mississippi Territory', 'Missouri Territory', 'Montana Territory', 'Nebraska Territory', 'Nevada Territory', 'New Mexico Territory', 'Northwest Territory', 'Oklahoma Territory', 'Oregon Territory', 'Orleans Territory', 'Southwest Territory', 'Utah Territory', 'Washington Territory', 'Wisconsin Territory', 'Wyoming Territory', 'Puerto Rico', 'Persons in the Military']\n"
     ]
    }
   ],
   "source": [
    "print(k)"
   ]
  },
  {
   "cell_type": "code",
   "execution_count": 7,
   "metadata": {},
   "outputs": [],
   "source": [
    "rm = []\n",
    "for x in k:\n",
    "    y = df['STATE'] == x\n",
    "    for z,i in enumerate(y):\n",
    "        if i:\n",
    "            rm.append(z)"
   ]
  },
  {
   "cell_type": "code",
   "execution_count": 8,
   "metadata": {},
   "outputs": [],
   "source": [
    "df.drop(df.index[rm], inplace=True)"
   ]
  },
  {
   "cell_type": "code",
   "execution_count": 9,
   "metadata": {},
   "outputs": [],
   "source": [
    "for c in statecols[1:]:\n",
    "    df[c] = pd.to_numeric(df[c])"
   ]
  },
  {
   "cell_type": "code",
   "execution_count": 10,
   "metadata": {},
   "outputs": [],
   "source": [
    "for i in range(1970, 2020, 10):\n",
    "    urban, suburban, rural = 'A57AB'+str(i), 'A57AC'+str(i), 'A57AD'+str(i)\n",
    "    df['Urban_Ratio_' + str(i)] = df[urban]/(df[urban] + df[suburban] + df[rural])\n",
    "    df['Suburban_Ratio_' + str(i)] = df[suburban]/(df[urban] + df[suburban] + df[rural])\n",
    "    df['Rural_Ratio_' + str(i)] = df[rural]/(df[urban] + df[suburban] + df[rural])"
   ]
  },
  {
   "cell_type": "code",
   "execution_count": 11,
   "metadata": {},
   "outputs": [
    {
     "data": {
      "text/plain": [
       "(51, 31)"
      ]
     },
     "execution_count": 11,
     "metadata": {},
     "output_type": "execute_result"
    }
   ],
   "source": [
    "df.shape"
   ]
  },
  {
   "cell_type": "code",
   "execution_count": 12,
   "metadata": {},
   "outputs": [
    {
     "data": {
      "text/plain": [
       "('A57AB2010', 'A57AC2010', 'A57AD2010')"
      ]
     },
     "execution_count": 12,
     "metadata": {},
     "output_type": "execute_result"
    }
   ],
   "source": [
    "urban, suburban, rural"
   ]
  },
  {
   "cell_type": "code",
   "execution_count": 13,
   "metadata": {},
   "outputs": [],
   "source": [
    "statecols = statecols[1:]"
   ]
  },
  {
   "cell_type": "code",
   "execution_count": 14,
   "metadata": {},
   "outputs": [],
   "source": [
    "df.drop(columns=statecols, inplace=True)"
   ]
  },
  {
   "cell_type": "code",
   "execution_count": 15,
   "metadata": {},
   "outputs": [
    {
     "data": {
      "text/html": [
       "<div>\n",
       "<style scoped>\n",
       "    .dataframe tbody tr th:only-of-type {\n",
       "        vertical-align: middle;\n",
       "    }\n",
       "\n",
       "    .dataframe tbody tr th {\n",
       "        vertical-align: top;\n",
       "    }\n",
       "\n",
       "    .dataframe thead th {\n",
       "        text-align: right;\n",
       "    }\n",
       "</style>\n",
       "<table border=\"1\" class=\"dataframe\">\n",
       "  <thead>\n",
       "    <tr style=\"text-align: right;\">\n",
       "      <th></th>\n",
       "      <th>STATE</th>\n",
       "      <th>Urban_Ratio_1970</th>\n",
       "      <th>Suburban_Ratio_1970</th>\n",
       "      <th>Rural_Ratio_1970</th>\n",
       "      <th>Urban_Ratio_1980</th>\n",
       "      <th>Suburban_Ratio_1980</th>\n",
       "      <th>Rural_Ratio_1980</th>\n",
       "      <th>Urban_Ratio_1990</th>\n",
       "      <th>Suburban_Ratio_1990</th>\n",
       "      <th>Rural_Ratio_1990</th>\n",
       "      <th>Urban_Ratio_2000</th>\n",
       "      <th>Suburban_Ratio_2000</th>\n",
       "      <th>Rural_Ratio_2000</th>\n",
       "      <th>Urban_Ratio_2010</th>\n",
       "      <th>Suburban_Ratio_2010</th>\n",
       "      <th>Rural_Ratio_2010</th>\n",
       "    </tr>\n",
       "  </thead>\n",
       "  <tbody>\n",
       "    <tr>\n",
       "      <th>1</th>\n",
       "      <td>Alabama</td>\n",
       "      <td>0.371737</td>\n",
       "      <td>0.212422</td>\n",
       "      <td>0.415841</td>\n",
       "      <td>0.453393</td>\n",
       "      <td>0.146962</td>\n",
       "      <td>0.399646</td>\n",
       "      <td>0.455371</td>\n",
       "      <td>0.148390</td>\n",
       "      <td>0.396239</td>\n",
       "      <td>0.436511</td>\n",
       "      <td>0.117934</td>\n",
       "      <td>0.445555</td>\n",
       "      <td>0.486492</td>\n",
       "      <td>0.103876</td>\n",
       "      <td>0.409632</td>\n",
       "    </tr>\n",
       "    <tr>\n",
       "      <th>2</th>\n",
       "      <td>Alaska</td>\n",
       "      <td>0.000000</td>\n",
       "      <td>0.484423</td>\n",
       "      <td>0.515577</td>\n",
       "      <td>0.423657</td>\n",
       "      <td>0.219783</td>\n",
       "      <td>0.356560</td>\n",
       "      <td>0.403392</td>\n",
       "      <td>0.271528</td>\n",
       "      <td>0.325080</td>\n",
       "      <td>0.442903</td>\n",
       "      <td>0.213081</td>\n",
       "      <td>0.344017</td>\n",
       "      <td>0.444582</td>\n",
       "      <td>0.215616</td>\n",
       "      <td>0.339802</td>\n",
       "    </tr>\n",
       "    <tr>\n",
       "      <th>4</th>\n",
       "      <td>Arizona</td>\n",
       "      <td>0.653646</td>\n",
       "      <td>0.141918</td>\n",
       "      <td>0.204436</td>\n",
       "      <td>0.703986</td>\n",
       "      <td>0.134332</td>\n",
       "      <td>0.161682</td>\n",
       "      <td>0.724647</td>\n",
       "      <td>0.150325</td>\n",
       "      <td>0.125028</td>\n",
       "      <td>0.761731</td>\n",
       "      <td>0.119941</td>\n",
       "      <td>0.118328</td>\n",
       "      <td>0.800652</td>\n",
       "      <td>0.097446</td>\n",
       "      <td>0.101902</td>\n",
       "    </tr>\n",
       "    <tr>\n",
       "      <th>6</th>\n",
       "      <td>Arkansas</td>\n",
       "      <td>0.196862</td>\n",
       "      <td>0.302731</td>\n",
       "      <td>0.500407</td>\n",
       "      <td>0.246387</td>\n",
       "      <td>0.269506</td>\n",
       "      <td>0.484107</td>\n",
       "      <td>0.251590</td>\n",
       "      <td>0.283573</td>\n",
       "      <td>0.464837</td>\n",
       "      <td>0.321967</td>\n",
       "      <td>0.203274</td>\n",
       "      <td>0.474759</td>\n",
       "      <td>0.395360</td>\n",
       "      <td>0.166243</td>\n",
       "      <td>0.438397</td>\n",
       "    </tr>\n",
       "    <tr>\n",
       "      <th>8</th>\n",
       "      <td>California</td>\n",
       "      <td>0.809285</td>\n",
       "      <td>0.099647</td>\n",
       "      <td>0.091068</td>\n",
       "      <td>0.835389</td>\n",
       "      <td>0.077561</td>\n",
       "      <td>0.087050</td>\n",
       "      <td>0.855716</td>\n",
       "      <td>0.070739</td>\n",
       "      <td>0.073545</td>\n",
       "      <td>0.884221</td>\n",
       "      <td>0.060217</td>\n",
       "      <td>0.055562</td>\n",
       "      <td>0.897292</td>\n",
       "      <td>0.052234</td>\n",
       "      <td>0.050474</td>\n",
       "    </tr>\n",
       "  </tbody>\n",
       "</table>\n",
       "</div>"
      ],
      "text/plain": [
       "        STATE  Urban_Ratio_1970  Suburban_Ratio_1970  Rural_Ratio_1970  \\\n",
       "1     Alabama          0.371737             0.212422          0.415841   \n",
       "2      Alaska          0.000000             0.484423          0.515577   \n",
       "4     Arizona          0.653646             0.141918          0.204436   \n",
       "6    Arkansas          0.196862             0.302731          0.500407   \n",
       "8  California          0.809285             0.099647          0.091068   \n",
       "\n",
       "   Urban_Ratio_1980  Suburban_Ratio_1980  Rural_Ratio_1980  Urban_Ratio_1990  \\\n",
       "1          0.453393             0.146962          0.399646          0.455371   \n",
       "2          0.423657             0.219783          0.356560          0.403392   \n",
       "4          0.703986             0.134332          0.161682          0.724647   \n",
       "6          0.246387             0.269506          0.484107          0.251590   \n",
       "8          0.835389             0.077561          0.087050          0.855716   \n",
       "\n",
       "   Suburban_Ratio_1990  Rural_Ratio_1990  Urban_Ratio_2000  \\\n",
       "1             0.148390          0.396239          0.436511   \n",
       "2             0.271528          0.325080          0.442903   \n",
       "4             0.150325          0.125028          0.761731   \n",
       "6             0.283573          0.464837          0.321967   \n",
       "8             0.070739          0.073545          0.884221   \n",
       "\n",
       "   Suburban_Ratio_2000  Rural_Ratio_2000  Urban_Ratio_2010  \\\n",
       "1             0.117934          0.445555          0.486492   \n",
       "2             0.213081          0.344017          0.444582   \n",
       "4             0.119941          0.118328          0.800652   \n",
       "6             0.203274          0.474759          0.395360   \n",
       "8             0.060217          0.055562          0.897292   \n",
       "\n",
       "   Suburban_Ratio_2010  Rural_Ratio_2010  \n",
       "1             0.103876          0.409632  \n",
       "2             0.215616          0.339802  \n",
       "4             0.097446          0.101902  \n",
       "6             0.166243          0.438397  \n",
       "8             0.052234          0.050474  "
      ]
     },
     "execution_count": 15,
     "metadata": {},
     "output_type": "execute_result"
    }
   ],
   "source": [
    "df.head()"
   ]
  },
  {
   "cell_type": "code",
   "execution_count": 16,
   "metadata": {},
   "outputs": [],
   "source": [
    "df.to_csv('flaskDirectory/Dataset/Urban_Ratio_Data.csv', index=False)"
   ]
  },
  {
   "cell_type": "code",
   "execution_count": null,
   "metadata": {},
   "outputs": [],
   "source": []
  }
 ],
 "metadata": {
  "kernelspec": {
   "display_name": "Python 3",
   "language": "python",
   "name": "python3"
  },
  "language_info": {
   "codemirror_mode": {
    "name": "ipython",
    "version": 3
   },
   "file_extension": ".py",
   "mimetype": "text/x-python",
   "name": "python",
   "nbconvert_exporter": "python",
   "pygments_lexer": "ipython3",
   "version": "3.6.4"
  }
 },
 "nbformat": 4,
 "nbformat_minor": 2
}
