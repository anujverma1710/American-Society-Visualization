{
 "cells": [
  {
   "cell_type": "code",
   "execution_count": 1,
   "metadata": {},
   "outputs": [
    {
     "name": "stdout",
     "output_type": "stream",
     "text": [
      "['STATE', 'AT5AA1970', 'AT5AB1970', 'AK7AA1970', 'AK7AB1970', 'AK7AC1970', 'AK7AD1970', 'AK7AE1970', 'AK7AF1970', 'AT5AA1980', 'AT5AB1980', 'AK7AA1980', 'AK7AB1980', 'AK7AC1980', 'AK7AD1980', 'AK7AE1980', 'AK7AF1980', 'AT5AA1990', 'AT5AB1990', 'AK7AA1990', 'AK7AB1990', 'AK7AC1990', 'AK7AD1990', 'AK7AE1990', 'AK7AF1990', 'AT5AA2000', 'AT5AB2000', 'AK7AA2000', 'AK7AB2000', 'AK7AC2000', 'AK7AD2000', 'AK7AE2000', 'AK7AF2000', 'AT5AA125', 'AT5AB125', 'AK7AA125', 'AK7AB125', 'AK7AC125', 'AK7AD125', 'AK7AE125', 'AK7AF125']\n"
     ]
    }
   ],
   "source": [
    "import pandas as pd\n",
    "\n",
    "statecols = ['STATE']\n",
    "for i in range(1970, 2010, 10):\n",
    "    statecols.append(('AT5AA'+str(i)))\n",
    "    statecols.append(('AT5AB'+str(i)))\n",
    "    for j in range(ord('A'), ord('G'), 1):\n",
    "        statecols.append(('AK7A'+ chr(j) + str(i)))\n",
    "\n",
    "# For some weird reason, the last column has 125\n",
    "i = 125\n",
    "\n",
    "statecols.append(('AT5AA'+str(i)))\n",
    "statecols.append(('AT5AB'+str(i)))\n",
    "for j in range(ord('A'), ord('G'), 1):\n",
    "    statecols.append(('AK7A'+ chr(j) + str(i)))\n",
    "\n",
    "\n",
    "print(statecols)                                "
   ]
  },
  {
   "cell_type": "code",
   "execution_count": 2,
   "metadata": {},
   "outputs": [
    {
     "data": {
      "text/plain": [
       "Index(['STATE', 'AT5AA1970', 'AT5AA1980', 'AT5AA1990', 'AT5AA2000', 'AT5AA125',\n",
       "       'AT5AB1970', 'AT5AB1980', 'AT5AB1990', 'AT5AB2000', 'AT5AB125',\n",
       "       'AK7AA1970', 'AK7AA1980', 'AK7AA1990', 'AK7AA2000', 'AK7AA125',\n",
       "       'AK7AB1970', 'AK7AB1980', 'AK7AB1990', 'AK7AB2000', 'AK7AB125',\n",
       "       'AK7AC1970', 'AK7AC1980', 'AK7AC1990', 'AK7AC2000', 'AK7AC125',\n",
       "       'AK7AD1970', 'AK7AD1980', 'AK7AD1990', 'AK7AD2000', 'AK7AD125',\n",
       "       'AK7AE1970', 'AK7AE1980', 'AK7AE1990', 'AK7AE2000', 'AK7AE125',\n",
       "       'AK7AF1970', 'AK7AF1980', 'AK7AF1990', 'AK7AF2000', 'AK7AF125'],\n",
       "      dtype='object')"
      ]
     },
     "execution_count": 2,
     "metadata": {},
     "output_type": "execute_result"
    }
   ],
   "source": [
    "# -1 because AK7A125 not there\n",
    "df = pd.read_csv('flaskDirectory/Dataset/nhgis0002_ts_nominal_state.csv', usecols=statecols[:-1])\n",
    "df['AK7AF125'] = 0\n",
    "df.columns"
   ]
  },
  {
   "cell_type": "code",
   "execution_count": 3,
   "metadata": {},
   "outputs": [],
   "source": [
    "df.drop(df.index[[0]], inplace=True)"
   ]
  },
  {
   "cell_type": "code",
   "execution_count": 4,
   "metadata": {},
   "outputs": [],
   "source": [
    "df.fillna(value=0, inplace=True)"
   ]
  },
  {
   "cell_type": "code",
   "execution_count": 5,
   "metadata": {},
   "outputs": [],
   "source": [
    "k = [ i for i in df['STATE'] if i.endswith('Territory')]\n",
    "k.append('Puerto Rico')\n",
    "k.append('Persons in the Military')"
   ]
  },
  {
   "cell_type": "code",
   "execution_count": 6,
   "metadata": {},
   "outputs": [
    {
     "name": "stdout",
     "output_type": "stream",
     "text": [
      "['Alaska Territory', 'Arizona Territory', 'Arkansas Territory', 'Colorado Territory', 'Dakota Territory', 'Florida Territory', 'Hawaii Territory', 'Idaho Territory', 'Illinois Territory', 'Indian Territory', 'Indiana Territory', 'Iowa Territory', 'Kansas Territory', 'Louisiana Territory', 'Michigan Territory', 'Minnesota Territory', 'Mississippi Territory', 'Missouri Territory', 'Montana Territory', 'Nebraska Territory', 'Nevada Territory', 'New Mexico Territory', 'Northwest Territory', 'Oklahoma Territory', 'Oregon Territory', 'Orleans Territory', 'Southwest Territory', 'Utah Territory', 'Washington Territory', 'Wisconsin Territory', 'Wyoming Territory', 'Puerto Rico', 'Persons in the Military']\n"
     ]
    }
   ],
   "source": [
    "print(k)"
   ]
  },
  {
   "cell_type": "code",
   "execution_count": 7,
   "metadata": {},
   "outputs": [],
   "source": [
    "rm = []\n",
    "for x in k:\n",
    "    y = df['STATE'] == x\n",
    "    for z,i in enumerate(y):\n",
    "        if i:\n",
    "            rm.append(z)"
   ]
  },
  {
   "cell_type": "code",
   "execution_count": 8,
   "metadata": {},
   "outputs": [],
   "source": [
    "df.drop(df.index[rm], inplace=True)"
   ]
  },
  {
   "cell_type": "code",
   "execution_count": 9,
   "metadata": {},
   "outputs": [],
   "source": [
    "for c in statecols[1:]:\n",
    "    df[c] = pd.to_numeric(df[c])"
   ]
  },
  {
   "cell_type": "code",
   "execution_count": 10,
   "metadata": {},
   "outputs": [],
   "source": [
    "Origin = ['Europe', 'Asia', 'Africa', 'Oceania', 'Americas', 'Other']\n",
    "for i in range(1970, 2010, 10):\n",
    "    total = df['AT5AA' + str(i)] + df['AT5AB' + str(i)]\n",
    "    df['Native_Ratio_' + str(i)]  = df['AT5AA' + str(i)] / total\n",
    "    df['Foreign_Ratio_' + str(i)] = df['AT5AB' + str(i)] / total\n",
    "    \n",
    "    for k,j in enumerate(Origin):\n",
    "        df[j + '_Ratio_Total_' + str(i)]   = df['AK7A' + chr(ord('A') + k) + str(i)] / total\n",
    "        df[j + '_Ratio_Foreign_' + str(i)] = df['AK7A' + chr(ord('A') + k) + str(i)] / df['AT5AB' + str(i)]\n",
    "        \n",
    "i = 125\n",
    "\n",
    "total = df['AT5AA' + str(i)] + df['AT5AB' + str(i)]\n",
    "df['Native_Ratio_' + str(i)]  = df['AT5AA' + str(i)] / total\n",
    "df['Foreign_Ratio_' + str(i)] = df['AT5AB' + str(i)] / total\n",
    "\n",
    "for k,j in enumerate(Origin):\n",
    "    df[j + '_Ratio_Total_' + str(i)]   = df['AK7A' + chr(ord('A') + k) + str(i)] / total\n",
    "    df[j + '_Ratio_Foreign_' + str(i)] = df['AK7A' + chr(ord('A') + k) + str(i)] / df['AT5AB' + str(i)]"
   ]
  },
  {
   "cell_type": "code",
   "execution_count": 11,
   "metadata": {},
   "outputs": [
    {
     "data": {
      "text/plain": [
       "(51, 111)"
      ]
     },
     "execution_count": 11,
     "metadata": {},
     "output_type": "execute_result"
    }
   ],
   "source": [
    "df.shape"
   ]
  },
  {
   "cell_type": "code",
   "execution_count": 12,
   "metadata": {},
   "outputs": [],
   "source": [
    "statecols = statecols[1:]"
   ]
  },
  {
   "cell_type": "code",
   "execution_count": 13,
   "metadata": {},
   "outputs": [],
   "source": [
    "df.drop(columns=statecols, inplace=True)"
   ]
  },
  {
   "cell_type": "code",
   "execution_count": 14,
   "metadata": {
    "scrolled": true
   },
   "outputs": [
    {
     "data": {
      "text/html": [
       "<div>\n",
       "<style scoped>\n",
       "    .dataframe tbody tr th:only-of-type {\n",
       "        vertical-align: middle;\n",
       "    }\n",
       "\n",
       "    .dataframe tbody tr th {\n",
       "        vertical-align: top;\n",
       "    }\n",
       "\n",
       "    .dataframe thead th {\n",
       "        text-align: right;\n",
       "    }\n",
       "</style>\n",
       "<table border=\"1\" class=\"dataframe\">\n",
       "  <thead>\n",
       "    <tr style=\"text-align: right;\">\n",
       "      <th></th>\n",
       "      <th>STATE</th>\n",
       "      <th>Native_Ratio_1970</th>\n",
       "      <th>Foreign_Ratio_1970</th>\n",
       "      <th>Europe_Ratio_Total_1970</th>\n",
       "      <th>Europe_Ratio_Foreign_1970</th>\n",
       "      <th>Asia_Ratio_Total_1970</th>\n",
       "      <th>Asia_Ratio_Foreign_1970</th>\n",
       "      <th>Africa_Ratio_Total_1970</th>\n",
       "      <th>Africa_Ratio_Foreign_1970</th>\n",
       "      <th>Oceania_Ratio_Total_1970</th>\n",
       "      <th>...</th>\n",
       "      <th>Asia_Ratio_Total_125</th>\n",
       "      <th>Asia_Ratio_Foreign_125</th>\n",
       "      <th>Africa_Ratio_Total_125</th>\n",
       "      <th>Africa_Ratio_Foreign_125</th>\n",
       "      <th>Oceania_Ratio_Total_125</th>\n",
       "      <th>Oceania_Ratio_Foreign_125</th>\n",
       "      <th>Americas_Ratio_Total_125</th>\n",
       "      <th>Americas_Ratio_Foreign_125</th>\n",
       "      <th>Other_Ratio_Total_125</th>\n",
       "      <th>Other_Ratio_Foreign_125</th>\n",
       "    </tr>\n",
       "  </thead>\n",
       "  <tbody>\n",
       "    <tr>\n",
       "      <th>1</th>\n",
       "      <td>Alabama</td>\n",
       "      <td>0.995358</td>\n",
       "      <td>0.004642</td>\n",
       "      <td>0.002923</td>\n",
       "      <td>0.629722</td>\n",
       "      <td>0.000638</td>\n",
       "      <td>0.137353</td>\n",
       "      <td>0.000067</td>\n",
       "      <td>0.014448</td>\n",
       "      <td>0.000055</td>\n",
       "      <td>...</td>\n",
       "      <td>0.009437</td>\n",
       "      <td>0.270407</td>\n",
       "      <td>0.001417</td>\n",
       "      <td>0.040592</td>\n",
       "      <td>0.000140</td>\n",
       "      <td>0.004018</td>\n",
       "      <td>0.020039</td>\n",
       "      <td>0.574172</td>\n",
       "      <td>0.0</td>\n",
       "      <td>0.0</td>\n",
       "    </tr>\n",
       "    <tr>\n",
       "      <th>2</th>\n",
       "      <td>Alaska</td>\n",
       "      <td>0.974156</td>\n",
       "      <td>0.025844</td>\n",
       "      <td>0.012374</td>\n",
       "      <td>0.478810</td>\n",
       "      <td>0.005170</td>\n",
       "      <td>0.200052</td>\n",
       "      <td>0.000136</td>\n",
       "      <td>0.005281</td>\n",
       "      <td>0.000330</td>\n",
       "      <td>...</td>\n",
       "      <td>0.038292</td>\n",
       "      <td>0.551894</td>\n",
       "      <td>0.002680</td>\n",
       "      <td>0.038629</td>\n",
       "      <td>0.001921</td>\n",
       "      <td>0.027685</td>\n",
       "      <td>0.015055</td>\n",
       "      <td>0.216980</td>\n",
       "      <td>0.0</td>\n",
       "      <td>0.0</td>\n",
       "    </tr>\n",
       "    <tr>\n",
       "      <th>4</th>\n",
       "      <td>Arizona</td>\n",
       "      <td>0.956762</td>\n",
       "      <td>0.043238</td>\n",
       "      <td>0.015387</td>\n",
       "      <td>0.355870</td>\n",
       "      <td>0.002512</td>\n",
       "      <td>0.058104</td>\n",
       "      <td>0.000143</td>\n",
       "      <td>0.003304</td>\n",
       "      <td>0.000171</td>\n",
       "      <td>...</td>\n",
       "      <td>0.022755</td>\n",
       "      <td>0.167911</td>\n",
       "      <td>0.003446</td>\n",
       "      <td>0.025426</td>\n",
       "      <td>0.000587</td>\n",
       "      <td>0.004333</td>\n",
       "      <td>0.095898</td>\n",
       "      <td>0.707627</td>\n",
       "      <td>0.0</td>\n",
       "      <td>0.0</td>\n",
       "    </tr>\n",
       "    <tr>\n",
       "      <th>6</th>\n",
       "      <td>Arkansas</td>\n",
       "      <td>0.995691</td>\n",
       "      <td>0.004309</td>\n",
       "      <td>0.002782</td>\n",
       "      <td>0.645710</td>\n",
       "      <td>0.000684</td>\n",
       "      <td>0.158803</td>\n",
       "      <td>0.000015</td>\n",
       "      <td>0.003499</td>\n",
       "      <td>0.000048</td>\n",
       "      <td>...</td>\n",
       "      <td>0.009264</td>\n",
       "      <td>0.209192</td>\n",
       "      <td>0.000663</td>\n",
       "      <td>0.014975</td>\n",
       "      <td>0.001195</td>\n",
       "      <td>0.026977</td>\n",
       "      <td>0.029531</td>\n",
       "      <td>0.666850</td>\n",
       "      <td>0.0</td>\n",
       "      <td>0.0</td>\n",
       "    </tr>\n",
       "    <tr>\n",
       "      <th>8</th>\n",
       "      <td>California</td>\n",
       "      <td>0.911912</td>\n",
       "      <td>0.088088</td>\n",
       "      <td>0.034332</td>\n",
       "      <td>0.389751</td>\n",
       "      <td>0.013806</td>\n",
       "      <td>0.156736</td>\n",
       "      <td>0.000610</td>\n",
       "      <td>0.006929</td>\n",
       "      <td>0.001446</td>\n",
       "      <td>...</td>\n",
       "      <td>0.097886</td>\n",
       "      <td>0.361574</td>\n",
       "      <td>0.004153</td>\n",
       "      <td>0.015340</td>\n",
       "      <td>0.002002</td>\n",
       "      <td>0.007396</td>\n",
       "      <td>0.148816</td>\n",
       "      <td>0.549698</td>\n",
       "      <td>0.0</td>\n",
       "      <td>0.0</td>\n",
       "    </tr>\n",
       "  </tbody>\n",
       "</table>\n",
       "<p>5 rows × 71 columns</p>\n",
       "</div>"
      ],
      "text/plain": [
       "        STATE  Native_Ratio_1970  Foreign_Ratio_1970  Europe_Ratio_Total_1970  \\\n",
       "1     Alabama           0.995358            0.004642                 0.002923   \n",
       "2      Alaska           0.974156            0.025844                 0.012374   \n",
       "4     Arizona           0.956762            0.043238                 0.015387   \n",
       "6    Arkansas           0.995691            0.004309                 0.002782   \n",
       "8  California           0.911912            0.088088                 0.034332   \n",
       "\n",
       "   Europe_Ratio_Foreign_1970  Asia_Ratio_Total_1970  Asia_Ratio_Foreign_1970  \\\n",
       "1                   0.629722               0.000638                 0.137353   \n",
       "2                   0.478810               0.005170                 0.200052   \n",
       "4                   0.355870               0.002512                 0.058104   \n",
       "6                   0.645710               0.000684                 0.158803   \n",
       "8                   0.389751               0.013806                 0.156736   \n",
       "\n",
       "   Africa_Ratio_Total_1970  Africa_Ratio_Foreign_1970  \\\n",
       "1                 0.000067                   0.014448   \n",
       "2                 0.000136                   0.005281   \n",
       "4                 0.000143                   0.003304   \n",
       "6                 0.000015                   0.003499   \n",
       "8                 0.000610                   0.006929   \n",
       "\n",
       "   Oceania_Ratio_Total_1970           ...             Asia_Ratio_Total_125  \\\n",
       "1                  0.000055           ...                         0.009437   \n",
       "2                  0.000330           ...                         0.038292   \n",
       "4                  0.000171           ...                         0.022755   \n",
       "6                  0.000048           ...                         0.009264   \n",
       "8                  0.001446           ...                         0.097886   \n",
       "\n",
       "   Asia_Ratio_Foreign_125  Africa_Ratio_Total_125  Africa_Ratio_Foreign_125  \\\n",
       "1                0.270407                0.001417                  0.040592   \n",
       "2                0.551894                0.002680                  0.038629   \n",
       "4                0.167911                0.003446                  0.025426   \n",
       "6                0.209192                0.000663                  0.014975   \n",
       "8                0.361574                0.004153                  0.015340   \n",
       "\n",
       "   Oceania_Ratio_Total_125  Oceania_Ratio_Foreign_125  \\\n",
       "1                 0.000140                   0.004018   \n",
       "2                 0.001921                   0.027685   \n",
       "4                 0.000587                   0.004333   \n",
       "6                 0.001195                   0.026977   \n",
       "8                 0.002002                   0.007396   \n",
       "\n",
       "   Americas_Ratio_Total_125  Americas_Ratio_Foreign_125  \\\n",
       "1                  0.020039                    0.574172   \n",
       "2                  0.015055                    0.216980   \n",
       "4                  0.095898                    0.707627   \n",
       "6                  0.029531                    0.666850   \n",
       "8                  0.148816                    0.549698   \n",
       "\n",
       "   Other_Ratio_Total_125  Other_Ratio_Foreign_125  \n",
       "1                    0.0                      0.0  \n",
       "2                    0.0                      0.0  \n",
       "4                    0.0                      0.0  \n",
       "6                    0.0                      0.0  \n",
       "8                    0.0                      0.0  \n",
       "\n",
       "[5 rows x 71 columns]"
      ]
     },
     "execution_count": 14,
     "metadata": {},
     "output_type": "execute_result"
    }
   ],
   "source": [
    "df.head()"
   ]
  },
  {
   "cell_type": "code",
   "execution_count": 46,
   "metadata": {},
   "outputs": [
    {
     "name": "stdout",
     "output_type": "stream",
     "text": [
      "['STATE', 'Native_Ratio_1970', 'Foreign_Ratio_1970', 'Europe_Ratio_Total_1970', 'Europe_Ratio_Foreign_1970', 'Asia_Ratio_Total_1970', 'Asia_Ratio_Foreign_1970', 'Africa_Ratio_Total_1970', 'Africa_Ratio_Foreign_1970', 'Oceania_Ratio_Total_1970', 'Oceania_Ratio_Foreign_1970', 'Americas_Ratio_Total_1970', 'Americas_Ratio_Foreign_1970', 'Other_Ratio_Total_1970', 'Other_Ratio_Foreign_1970', 'Native_Ratio_1980', 'Foreign_Ratio_1980', 'Europe_Ratio_Total_1980', 'Europe_Ratio_Foreign_1980', 'Asia_Ratio_Total_1980', 'Asia_Ratio_Foreign_1980', 'Africa_Ratio_Total_1980', 'Africa_Ratio_Foreign_1980', 'Oceania_Ratio_Total_1980', 'Oceania_Ratio_Foreign_1980', 'Americas_Ratio_Total_1980', 'Americas_Ratio_Foreign_1980', 'Other_Ratio_Total_1980', 'Other_Ratio_Foreign_1980', 'Native_Ratio_1990', 'Foreign_Ratio_1990', 'Europe_Ratio_Total_1990', 'Europe_Ratio_Foreign_1990', 'Asia_Ratio_Total_1990', 'Asia_Ratio_Foreign_1990', 'Africa_Ratio_Total_1990', 'Africa_Ratio_Foreign_1990', 'Oceania_Ratio_Total_1990', 'Oceania_Ratio_Foreign_1990', 'Americas_Ratio_Total_1990', 'Americas_Ratio_Foreign_1990', 'Other_Ratio_Total_1990', 'Other_Ratio_Foreign_1990', 'Native_Ratio_2000', 'Foreign_Ratio_2000', 'Europe_Ratio_Total_2000', 'Europe_Ratio_Foreign_2000', 'Asia_Ratio_Total_2000', 'Asia_Ratio_Foreign_2000', 'Africa_Ratio_Total_2000', 'Africa_Ratio_Foreign_2000', 'Oceania_Ratio_Total_2000', 'Oceania_Ratio_Foreign_2000', 'Americas_Ratio_Total_2000', 'Americas_Ratio_Foreign_2000', 'Other_Ratio_Total_2000', 'Other_Ratio_Foreign_2000', 'Native_Ratio_2010', 'Foreign_Ratio_2010', 'Europe_Ratio_Total_2010', 'Europe_Ratio_Foreign_2010', 'Asia_Ratio_Total_2010', 'Asia_Ratio_Foreign_2010', 'Africa_Ratio_Total_2010', 'Africa_Ratio_Foreign_2010', 'Oceania_Ratio_Total_2010', 'Oceania_Ratio_Foreign_2010', 'Americas_Ratio_Total_2010', 'Americas_Ratio_Foreign_2010', 'Other_Ratio_Total_2010', 'Other_Ratio_Foreign_2010']\n"
     ]
    }
   ],
   "source": [
    "#Rename 125 to 2010\n",
    "statecols = df.columns\n",
    "statecols = statecols.tolist()\n",
    "for i in range(1, 15):\n",
    "    statecols[-1*i] = statecols[-1*i][:-3] + '2010'\n",
    "print(statecols)"
   ]
  },
  {
   "cell_type": "code",
   "execution_count": 47,
   "metadata": {},
   "outputs": [],
   "source": [
    "df.columns = statecols"
   ]
  },
  {
   "cell_type": "code",
   "execution_count": 49,
   "metadata": {},
   "outputs": [],
   "source": [
    "df.to_csv('flaskDirectory/Dataset/Native_Ratio_Data.csv', index=False)"
   ]
  },
  {
   "cell_type": "code",
   "execution_count": null,
   "metadata": {},
   "outputs": [],
   "source": []
  }
 ],
 "metadata": {
  "kernelspec": {
   "display_name": "Python 3",
   "language": "python",
   "name": "python3"
  },
  "language_info": {
   "codemirror_mode": {
    "name": "ipython",
    "version": 3
   },
   "file_extension": ".py",
   "mimetype": "text/x-python",
   "name": "python",
   "nbconvert_exporter": "python",
   "pygments_lexer": "ipython3",
   "version": "3.6.4"
  }
 },
 "nbformat": 4,
 "nbformat_minor": 2
}
