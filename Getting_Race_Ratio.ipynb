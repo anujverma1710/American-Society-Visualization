{
 "cells": [
  {
   "cell_type": "code",
   "execution_count": 1,
   "metadata": {},
   "outputs": [
    {
     "name": "stdout",
     "output_type": "stream",
     "text": [
      "['STATE', 'B18AA1970', 'B18AB1970', 'B18AC1970', 'B18AD1970', 'B18AA1980', 'B18AB1980', 'B18AC1980', 'B18AD1980', 'B18AA1990', 'B18AB1990', 'B18AC1990', 'B18AD1990', 'B18AA2000', 'B18AB2000', 'B18AC2000', 'B18AD2000', 'B18AA2010', 'B18AB2010', 'B18AC2010', 'B18AD2010']\n"
     ]
    }
   ],
   "source": [
    "import pandas as pd\n",
    "\n",
    "statecols = ['STATE']\n",
    "for i in range(1970, 2020, 10):\n",
    "    statecols.append(('B18AA'+str(i)))\n",
    "    statecols.append(('B18AB'+str(i)))\n",
    "    statecols.append(('B18AC'+str(i)))\n",
    "    statecols.append(('B18AD'+str(i)))\n",
    "                                      \n",
    "print(statecols)                                "
   ]
  },
  {
   "cell_type": "code",
   "execution_count": 2,
   "metadata": {},
   "outputs": [
    {
     "data": {
      "text/plain": [
       "Index(['STATE', 'B18AA1970', 'B18AA1980', 'B18AA1990', 'B18AA2000',\n",
       "       'B18AA2010', 'B18AB1970', 'B18AB1980', 'B18AB1990', 'B18AB2000',\n",
       "       'B18AB2010', 'B18AC1970', 'B18AC1980', 'B18AC1990', 'B18AC2000',\n",
       "       'B18AC2010', 'B18AD1970', 'B18AD1980', 'B18AD1990', 'B18AD2000',\n",
       "       'B18AD2010'],\n",
       "      dtype='object')"
      ]
     },
     "execution_count": 2,
     "metadata": {},
     "output_type": "execute_result"
    }
   ],
   "source": [
    "df = pd.read_csv('flaskDirectory/Dataset/nhgis0002_ts_nominal_state.csv', usecols=statecols)\n",
    "df.columns"
   ]
  },
  {
   "cell_type": "code",
   "execution_count": 3,
   "metadata": {},
   "outputs": [],
   "source": [
    "df.drop(df.index[[0]], inplace=True)"
   ]
  },
  {
   "cell_type": "code",
   "execution_count": 4,
   "metadata": {},
   "outputs": [],
   "source": [
    "df.fillna(value=0, inplace=True)"
   ]
  },
  {
   "cell_type": "code",
   "execution_count": 5,
   "metadata": {},
   "outputs": [],
   "source": [
    "k = [ i for i in df['STATE'] if i.endswith('Territory')]\n",
    "k.append('Puerto Rico')\n",
    "k.append('Persons in the Military')"
   ]
  },
  {
   "cell_type": "code",
   "execution_count": 6,
   "metadata": {},
   "outputs": [
    {
     "name": "stdout",
     "output_type": "stream",
     "text": [
      "['Alaska Territory', 'Arizona Territory', 'Arkansas Territory', 'Colorado Territory', 'Dakota Territory', 'Florida Territory', 'Hawaii Territory', 'Idaho Territory', 'Illinois Territory', 'Indian Territory', 'Indiana Territory', 'Iowa Territory', 'Kansas Territory', 'Louisiana Territory', 'Michigan Territory', 'Minnesota Territory', 'Mississippi Territory', 'Missouri Territory', 'Montana Territory', 'Nebraska Territory', 'Nevada Territory', 'New Mexico Territory', 'Northwest Territory', 'Oklahoma Territory', 'Oregon Territory', 'Orleans Territory', 'Southwest Territory', 'Utah Territory', 'Washington Territory', 'Wisconsin Territory', 'Wyoming Territory', 'Puerto Rico', 'Persons in the Military']\n"
     ]
    }
   ],
   "source": [
    "print(k)"
   ]
  },
  {
   "cell_type": "code",
   "execution_count": 7,
   "metadata": {},
   "outputs": [],
   "source": [
    "rm = []\n",
    "for x in k:\n",
    "    y = df['STATE'] == x\n",
    "    for z,i in enumerate(y):\n",
    "        if i:\n",
    "            rm.append(z)"
   ]
  },
  {
   "cell_type": "code",
   "execution_count": 8,
   "metadata": {},
   "outputs": [],
   "source": [
    "df.drop(df.index[rm], inplace=True)"
   ]
  },
  {
   "cell_type": "code",
   "execution_count": 9,
   "metadata": {},
   "outputs": [],
   "source": [
    "for c in statecols[1:]:\n",
    "    df[c] = pd.to_numeric(df[c])"
   ]
  },
  {
   "cell_type": "code",
   "execution_count": 10,
   "metadata": {},
   "outputs": [],
   "source": [
    "for i in range(1970, 2020, 10):\n",
    "    W, AA, AI, APAC = 'B18AA'+str(i), 'B18AB'+str(i), 'B18AC'+str(i), 'B18AD'+str(i)\n",
    "    df['W_Ratio_' + str(i)]    = df[W]   /(df[W] + df[AA] + df[AI] + df[APAC])\n",
    "    df['AA_Ratio_' + str(i)]   = df[AA]  /(df[W] + df[AA] + df[AI] + df[APAC])\n",
    "    df['AI_Ratio_' + str(i)]   = df[AI]  /(df[W] + df[AA] + df[AI] + df[APAC])\n",
    "    df['APAC_Ratio_' + str(i)] = df[APAC]/(df[W] + df[AA] + df[AI] + df[APAC])\n",
    "    df['Total_Population_' + str(i)] = df[W] + df[AA] + df[AI] + df[APAC]"
   ]
  },
  {
   "cell_type": "code",
   "execution_count": 11,
   "metadata": {},
   "outputs": [
    {
     "data": {
      "text/plain": [
       "(51, 46)"
      ]
     },
     "execution_count": 11,
     "metadata": {},
     "output_type": "execute_result"
    }
   ],
   "source": [
    "df.shape"
   ]
  },
  {
   "cell_type": "code",
   "execution_count": 12,
   "metadata": {},
   "outputs": [
    {
     "data": {
      "text/plain": [
       "('B18AA2010', 'B18AB2010', 'B18AC2010', 'B18AD2010')"
      ]
     },
     "execution_count": 12,
     "metadata": {},
     "output_type": "execute_result"
    }
   ],
   "source": [
    "W, AA, AI, APAC"
   ]
  },
  {
   "cell_type": "code",
   "execution_count": 13,
   "metadata": {},
   "outputs": [],
   "source": [
    "statecols = statecols[1:]"
   ]
  },
  {
   "cell_type": "code",
   "execution_count": 14,
   "metadata": {},
   "outputs": [],
   "source": [
    "df.drop(columns=statecols, inplace=True)"
   ]
  },
  {
   "cell_type": "code",
   "execution_count": 15,
   "metadata": {},
   "outputs": [
    {
     "data": {
      "text/html": [
       "<div>\n",
       "<style scoped>\n",
       "    .dataframe tbody tr th:only-of-type {\n",
       "        vertical-align: middle;\n",
       "    }\n",
       "\n",
       "    .dataframe tbody tr th {\n",
       "        vertical-align: top;\n",
       "    }\n",
       "\n",
       "    .dataframe thead th {\n",
       "        text-align: right;\n",
       "    }\n",
       "</style>\n",
       "<table border=\"1\" class=\"dataframe\">\n",
       "  <thead>\n",
       "    <tr style=\"text-align: right;\">\n",
       "      <th></th>\n",
       "      <th>STATE</th>\n",
       "      <th>W_Ratio_1970</th>\n",
       "      <th>AA_Ratio_1970</th>\n",
       "      <th>AI_Ratio_1970</th>\n",
       "      <th>APAC_Ratio_1970</th>\n",
       "      <th>Total_Population_1970</th>\n",
       "      <th>W_Ratio_1980</th>\n",
       "      <th>AA_Ratio_1980</th>\n",
       "      <th>AI_Ratio_1980</th>\n",
       "      <th>APAC_Ratio_1980</th>\n",
       "      <th>...</th>\n",
       "      <th>W_Ratio_2000</th>\n",
       "      <th>AA_Ratio_2000</th>\n",
       "      <th>AI_Ratio_2000</th>\n",
       "      <th>APAC_Ratio_2000</th>\n",
       "      <th>Total_Population_2000</th>\n",
       "      <th>W_Ratio_2010</th>\n",
       "      <th>AA_Ratio_2010</th>\n",
       "      <th>AI_Ratio_2010</th>\n",
       "      <th>APAC_Ratio_2010</th>\n",
       "      <th>Total_Population_2010</th>\n",
       "    </tr>\n",
       "  </thead>\n",
       "  <tbody>\n",
       "    <tr>\n",
       "      <th>1</th>\n",
       "      <td>Alabama</td>\n",
       "      <td>0.735688</td>\n",
       "      <td>0.262318</td>\n",
       "      <td>0.000709</td>\n",
       "      <td>0.001284</td>\n",
       "      <td>3444165</td>\n",
       "      <td>0.738723</td>\n",
       "      <td>0.256144</td>\n",
       "      <td>0.002392</td>\n",
       "      <td>0.002741</td>\n",
       "      <td>...</td>\n",
       "      <td>0.718343</td>\n",
       "      <td>0.262537</td>\n",
       "      <td>0.005094</td>\n",
       "      <td>0.014025</td>\n",
       "      <td>4402921</td>\n",
       "      <td>0.695636</td>\n",
       "      <td>0.265757</td>\n",
       "      <td>0.005993</td>\n",
       "      <td>0.032614</td>\n",
       "      <td>4708485</td>\n",
       "    </tr>\n",
       "    <tr>\n",
       "      <th>2</th>\n",
       "      <td>Alaska</td>\n",
       "      <td>0.788220</td>\n",
       "      <td>0.029666</td>\n",
       "      <td>0.054184</td>\n",
       "      <td>0.127930</td>\n",
       "      <td>300382</td>\n",
       "      <td>0.783078</td>\n",
       "      <td>0.034509</td>\n",
       "      <td>0.161544</td>\n",
       "      <td>0.020869</td>\n",
       "      <td>...</td>\n",
       "      <td>0.733037</td>\n",
       "      <td>0.036754</td>\n",
       "      <td>0.165394</td>\n",
       "      <td>0.064816</td>\n",
       "      <td>592786</td>\n",
       "      <td>0.719331</td>\n",
       "      <td>0.035335</td>\n",
       "      <td>0.159292</td>\n",
       "      <td>0.086042</td>\n",
       "      <td>658356</td>\n",
       "    </tr>\n",
       "    <tr>\n",
       "      <th>4</th>\n",
       "      <td>Arizona</td>\n",
       "      <td>0.906289</td>\n",
       "      <td>0.030123</td>\n",
       "      <td>0.054104</td>\n",
       "      <td>0.009484</td>\n",
       "      <td>1770900</td>\n",
       "      <td>0.899295</td>\n",
       "      <td>0.029505</td>\n",
       "      <td>0.061427</td>\n",
       "      <td>0.009772</td>\n",
       "      <td>...</td>\n",
       "      <td>0.777193</td>\n",
       "      <td>0.031876</td>\n",
       "      <td>0.051339</td>\n",
       "      <td>0.139592</td>\n",
       "      <td>4984106</td>\n",
       "      <td>0.755966</td>\n",
       "      <td>0.041953</td>\n",
       "      <td>0.048031</td>\n",
       "      <td>0.154050</td>\n",
       "      <td>6173717</td>\n",
       "    </tr>\n",
       "    <tr>\n",
       "      <th>6</th>\n",
       "      <td>Arkansas</td>\n",
       "      <td>0.814183</td>\n",
       "      <td>0.183251</td>\n",
       "      <td>0.001047</td>\n",
       "      <td>0.001519</td>\n",
       "      <td>1923295</td>\n",
       "      <td>0.827848</td>\n",
       "      <td>0.163396</td>\n",
       "      <td>0.005588</td>\n",
       "      <td>0.003168</td>\n",
       "      <td>...</td>\n",
       "      <td>0.810795</td>\n",
       "      <td>0.158834</td>\n",
       "      <td>0.006751</td>\n",
       "      <td>0.023619</td>\n",
       "      <td>2637656</td>\n",
       "      <td>0.785345</td>\n",
       "      <td>0.157366</td>\n",
       "      <td>0.007782</td>\n",
       "      <td>0.049507</td>\n",
       "      <td>2858908</td>\n",
       "    </tr>\n",
       "    <tr>\n",
       "      <th>8</th>\n",
       "      <td>California</td>\n",
       "      <td>0.890137</td>\n",
       "      <td>0.070172</td>\n",
       "      <td>0.004562</td>\n",
       "      <td>0.035129</td>\n",
       "      <td>19953134</td>\n",
       "      <td>0.844180</td>\n",
       "      <td>0.084257</td>\n",
       "      <td>0.010735</td>\n",
       "      <td>0.060829</td>\n",
       "      <td>...</td>\n",
       "      <td>0.625157</td>\n",
       "      <td>0.070167</td>\n",
       "      <td>0.010332</td>\n",
       "      <td>0.294344</td>\n",
       "      <td>32264002</td>\n",
       "      <td>0.605384</td>\n",
       "      <td>0.064875</td>\n",
       "      <td>0.010237</td>\n",
       "      <td>0.319504</td>\n",
       "      <td>35438572</td>\n",
       "    </tr>\n",
       "  </tbody>\n",
       "</table>\n",
       "<p>5 rows × 26 columns</p>\n",
       "</div>"
      ],
      "text/plain": [
       "        STATE  W_Ratio_1970  AA_Ratio_1970  AI_Ratio_1970  APAC_Ratio_1970  \\\n",
       "1     Alabama      0.735688       0.262318       0.000709         0.001284   \n",
       "2      Alaska      0.788220       0.029666       0.054184         0.127930   \n",
       "4     Arizona      0.906289       0.030123       0.054104         0.009484   \n",
       "6    Arkansas      0.814183       0.183251       0.001047         0.001519   \n",
       "8  California      0.890137       0.070172       0.004562         0.035129   \n",
       "\n",
       "   Total_Population_1970  W_Ratio_1980  AA_Ratio_1980  AI_Ratio_1980  \\\n",
       "1                3444165      0.738723       0.256144       0.002392   \n",
       "2                 300382      0.783078       0.034509       0.161544   \n",
       "4                1770900      0.899295       0.029505       0.061427   \n",
       "6                1923295      0.827848       0.163396       0.005588   \n",
       "8               19953134      0.844180       0.084257       0.010735   \n",
       "\n",
       "   APAC_Ratio_1980          ...            W_Ratio_2000  AA_Ratio_2000  \\\n",
       "1         0.002741          ...                0.718343       0.262537   \n",
       "2         0.020869          ...                0.733037       0.036754   \n",
       "4         0.009772          ...                0.777193       0.031876   \n",
       "6         0.003168          ...                0.810795       0.158834   \n",
       "8         0.060829          ...                0.625157       0.070167   \n",
       "\n",
       "   AI_Ratio_2000  APAC_Ratio_2000  Total_Population_2000  W_Ratio_2010  \\\n",
       "1       0.005094         0.014025                4402921      0.695636   \n",
       "2       0.165394         0.064816                 592786      0.719331   \n",
       "4       0.051339         0.139592                4984106      0.755966   \n",
       "6       0.006751         0.023619                2637656      0.785345   \n",
       "8       0.010332         0.294344               32264002      0.605384   \n",
       "\n",
       "   AA_Ratio_2010  AI_Ratio_2010  APAC_Ratio_2010  Total_Population_2010  \n",
       "1       0.265757       0.005993         0.032614                4708485  \n",
       "2       0.035335       0.159292         0.086042                 658356  \n",
       "4       0.041953       0.048031         0.154050                6173717  \n",
       "6       0.157366       0.007782         0.049507                2858908  \n",
       "8       0.064875       0.010237         0.319504               35438572  \n",
       "\n",
       "[5 rows x 26 columns]"
      ]
     },
     "execution_count": 15,
     "metadata": {},
     "output_type": "execute_result"
    }
   ],
   "source": [
    "df.head()"
   ]
  },
  {
   "cell_type": "code",
   "execution_count": 16,
   "metadata": {},
   "outputs": [],
   "source": [
    "df.to_csv('flaskDirectory/Dataset/Race_Ratio_Data.csv', index=False)"
   ]
  }
 ],
 "metadata": {
  "kernelspec": {
   "display_name": "Python 3",
   "language": "python",
   "name": "python3"
  },
  "language_info": {
   "codemirror_mode": {
    "name": "ipython",
    "version": 3
   },
   "file_extension": ".py",
   "mimetype": "text/x-python",
   "name": "python",
   "nbconvert_exporter": "python",
   "pygments_lexer": "ipython3",
   "version": "3.6.4"
  }
 },
 "nbformat": 4,
 "nbformat_minor": 2
}
