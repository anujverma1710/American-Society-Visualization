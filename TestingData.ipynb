{
 "cells": [
  {
   "cell_type": "code",
   "execution_count": 15,
   "metadata": {},
   "outputs": [],
   "source": [
    "import pandas as pd                     "
   ]
  },
  {
   "cell_type": "code",
   "execution_count": 16,
   "metadata": {},
   "outputs": [
    {
     "data": {
      "text/plain": [
       "Index(['GISJOIN', 'STATE', 'STATEFP', 'STATENH', 'A00AA1790', 'A00AA1800',\n",
       "       'A00AA1810', 'A00AA1820', 'A00AA1830', 'A00AA1840',\n",
       "       ...\n",
       "       'CL6AA1980', 'CL6AA1990', 'CL6AA2000', 'CL6AA125', 'CL6AA125M',\n",
       "       'A41AA1970', 'A41AA1980', 'A41AA1990', 'A41AA2000', 'A41AA2010'],\n",
       "      dtype='object', length=386)"
      ]
     },
     "execution_count": 16,
     "metadata": {},
     "output_type": "execute_result"
    }
   ],
   "source": [
    "df = pd.read_csv('flaskDirectory/Dataset/nhgis0002_ts_nominal_state.csv')\n",
    "df.columns"
   ]
  },
  {
   "cell_type": "code",
   "execution_count": 17,
   "metadata": {},
   "outputs": [],
   "source": [
    "# Because some columns have weird names that end with 125\n",
    "def renameColumn(columnName):\n",
    "    if columnName.endswith(\"125\"):\n",
    "        columnName = columnName[:-3] + \"2010\"\n",
    "    return columnName"
   ]
  },
  {
   "cell_type": "code",
   "execution_count": 18,
   "metadata": {},
   "outputs": [],
   "source": [
    "df.rename(renameColumn, axis=\"columns\", inplace=True)"
   ]
  },
  {
   "cell_type": "code",
   "execution_count": 19,
   "metadata": {},
   "outputs": [
    {
     "data": {
      "text/plain": [
       "Index(['GISJOIN', 'STATE', 'STATEFP', 'STATENH', 'A00AA1790', 'A00AA1800',\n",
       "       'A00AA1810', 'A00AA1820', 'A00AA1830', 'A00AA1840',\n",
       "       ...\n",
       "       'CL6AA1980', 'CL6AA1990', 'CL6AA2000', 'CL6AA2010', 'CL6AA125M',\n",
       "       'A41AA1970', 'A41AA1980', 'A41AA1990', 'A41AA2000', 'A41AA2010'],\n",
       "      dtype='object', length=386)"
      ]
     },
     "execution_count": 19,
     "metadata": {},
     "output_type": "execute_result"
    }
   ],
   "source": [
    "df.columns"
   ]
  },
  {
   "cell_type": "code",
   "execution_count": 20,
   "metadata": {},
   "outputs": [],
   "source": [
    "df.to_csv('flaskDirectory/Dataset/nhgis0002_ts_nominal_state_1.csv')"
   ]
  },
  {
   "cell_type": "code",
   "execution_count": null,
   "metadata": {},
   "outputs": [],
   "source": []
  }
 ],
 "metadata": {
  "kernelspec": {
   "display_name": "Python 3",
   "language": "python",
   "name": "python3"
  },
  "language_info": {
   "codemirror_mode": {
    "name": "ipython",
    "version": 3
   },
   "file_extension": ".py",
   "mimetype": "text/x-python",
   "name": "python",
   "nbconvert_exporter": "python",
   "pygments_lexer": "ipython3",
   "version": "3.6.4"
  }
 },
 "nbformat": 4,
 "nbformat_minor": 2
}
