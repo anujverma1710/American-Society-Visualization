{
 "cells": [
  {
   "cell_type": "code",
   "execution_count": 1,
   "metadata": {},
   "outputs": [
    {
     "name": "stdout",
     "output_type": "stream",
     "text": [
      "['STATE', 'BD5AA1980', 'BD5AA1990', 'BD5AA2000', 'BD5AA125']\n"
     ]
    }
   ],
   "source": [
    "import pandas as pd\n",
    "\n",
    "statecols = ['STATE']\n",
    "for i in range(1980, 2010, 10):\n",
    "    statecols.append(('BD5AA'+str(i)))\n",
    "\n",
    "# For some weird reason, the last column has 125\n",
    "i = 125\n",
    "statecols.append(('BD5AA'+str(i)))\n",
    "print(statecols)                                "
   ]
  },
  {
   "cell_type": "code",
   "execution_count": 2,
   "metadata": {},
   "outputs": [
    {
     "data": {
      "text/plain": [
       "Index(['STATE', 'BD5AA1980', 'BD5AA1990', 'BD5AA2000', 'BD5AA125'], dtype='object')"
      ]
     },
     "execution_count": 2,
     "metadata": {},
     "output_type": "execute_result"
    }
   ],
   "source": [
    "df = pd.read_csv('flaskDirectory/Dataset/nhgis0002_ts_nominal_state.csv', usecols=statecols)\n",
    "df.columns"
   ]
  },
  {
   "cell_type": "code",
   "execution_count": 3,
   "metadata": {},
   "outputs": [],
   "source": [
    "df.drop(df.index[[0]], inplace=True)"
   ]
  },
  {
   "cell_type": "code",
   "execution_count": 4,
   "metadata": {},
   "outputs": [],
   "source": [
    "df.fillna(value=0, inplace=True)"
   ]
  },
  {
   "cell_type": "code",
   "execution_count": 5,
   "metadata": {},
   "outputs": [],
   "source": [
    "k = [ i for i in df['STATE'] if i.endswith('Territory')]\n",
    "k.append('Puerto Rico')\n",
    "k.append('Persons in the Military')"
   ]
  },
  {
   "cell_type": "code",
   "execution_count": 6,
   "metadata": {},
   "outputs": [
    {
     "name": "stdout",
     "output_type": "stream",
     "text": [
      "['Alaska Territory', 'Arizona Territory', 'Arkansas Territory', 'Colorado Territory', 'Dakota Territory', 'Florida Territory', 'Hawaii Territory', 'Idaho Territory', 'Illinois Territory', 'Indian Territory', 'Indiana Territory', 'Iowa Territory', 'Kansas Territory', 'Louisiana Territory', 'Michigan Territory', 'Minnesota Territory', 'Mississippi Territory', 'Missouri Territory', 'Montana Territory', 'Nebraska Territory', 'Nevada Territory', 'New Mexico Territory', 'Northwest Territory', 'Oklahoma Territory', 'Oregon Territory', 'Orleans Territory', 'Southwest Territory', 'Utah Territory', 'Washington Territory', 'Wisconsin Territory', 'Wyoming Territory', 'Puerto Rico', 'Persons in the Military']\n"
     ]
    }
   ],
   "source": [
    "print(k)"
   ]
  },
  {
   "cell_type": "code",
   "execution_count": 7,
   "metadata": {},
   "outputs": [],
   "source": [
    "rm = []\n",
    "for x in k:\n",
    "    y = df['STATE'] == x\n",
    "    for z,i in enumerate(y):\n",
    "        if i:\n",
    "            rm.append(z)"
   ]
  },
  {
   "cell_type": "code",
   "execution_count": 8,
   "metadata": {},
   "outputs": [],
   "source": [
    "df.drop(df.index[rm], inplace=True)"
   ]
  },
  {
   "cell_type": "code",
   "execution_count": 9,
   "metadata": {},
   "outputs": [],
   "source": [
    "for c in statecols[1:]:\n",
    "    df[c] = pd.to_numeric(df[c])"
   ]
  },
  {
   "cell_type": "code",
   "execution_count": 10,
   "metadata": {},
   "outputs": [
    {
     "data": {
      "text/plain": [
       "(51, 5)"
      ]
     },
     "execution_count": 10,
     "metadata": {},
     "output_type": "execute_result"
    }
   ],
   "source": [
    "df.shape"
   ]
  },
  {
   "cell_type": "code",
   "execution_count": 11,
   "metadata": {
    "scrolled": true
   },
   "outputs": [],
   "source": [
    "df.columns = ['STATE'] + ['Per_Capita_' + str(i)  for i in range(1980, 2020, 10)]"
   ]
  },
  {
   "cell_type": "code",
   "execution_count": 12,
   "metadata": {},
   "outputs": [],
   "source": [
    "df.to_csv('flaskDirectory/Dataset/Per_Capita_Data.csv', index=False)"
   ]
  },
  {
   "cell_type": "code",
   "execution_count": null,
   "metadata": {},
   "outputs": [],
   "source": []
  }
 ],
 "metadata": {
  "kernelspec": {
   "display_name": "Python 3",
   "language": "python",
   "name": "python3"
  },
  "language_info": {
   "codemirror_mode": {
    "name": "ipython",
    "version": 3
   },
   "file_extension": ".py",
   "mimetype": "text/x-python",
   "name": "python",
   "nbconvert_exporter": "python",
   "pygments_lexer": "ipython3",
   "version": "3.6.4"
  }
 },
 "nbformat": 4,
 "nbformat_minor": 2
}
