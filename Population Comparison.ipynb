{
 "cells": [
  {
   "cell_type": "code",
   "execution_count": 4,
   "metadata": {},
   "outputs": [
    {
     "name": "stdout",
     "output_type": "stream",
     "text": [
      "3.8.1\n"
     ]
    }
   ],
   "source": [
    "import plotly\n",
    "import plotly.plotly as py\n",
    "import plotly.graph_objs as go\n",
    "import pandas as pd\n",
    "import numpy as np\n",
    "import math\n",
    "print(plotly.__version__)\n",
    "plotly.tools.set_credentials_file(username='ppantode', api_key='qwgISiYqUEvhVHWdLZgd')"
   ]
  },
  {
   "cell_type": "code",
   "execution_count": 5,
   "metadata": {},
   "outputs": [],
   "source": [
    "df = pd.read_csv('flaskDirectory/Dataset/Sex_Ratio_Data.csv')\n",
    "df.set_index(\"STATE\", inplace=True)\n",
    "state = \"Alabama\"\n",
    "stateDF = df.loc[[state]]\n",
    "\n",
    "women_bins = []\n",
    "men_bins = []\n",
    "startYear = -1\n",
    "womenRatio = 0\n",
    "menRatio = 0\n",
    "pop = 0\n",
    "\n",
    "for i in range(1820, 2020, 10):\n",
    "    pop = stateDF['Total_Population_' + str(i)][0]\n",
    "    if pop != 0:\n",
    "        if startYear == -1:\n",
    "            startYear = i\n",
    "        menRatio = stateDF['Male_Ratio_' + str(i)][0]\n",
    "        men_bins.append(int(menRatio*pop))\n",
    "        women_bins.append(int((1-menRatio)*pop))\n",
    "        #men_bins.append(math.ceil(menRatio*1000))\n",
    "        #women_bins.append(math.floor((1-menRatio)*1000))\n",
    "        \n",
    "# For showing Women to the left, multiply by -1\n",
    "women_bins = [-1*i for i in women_bins]\n",
    "\n",
    "minRange = min(women_bins)\n",
    "maxRange = max(men_bins)\n",
    "\n",
    "women_bins = np.array(women_bins)\n",
    "men_bins = np.array(men_bins)"
   ]
  },
  {
   "cell_type": "code",
   "execution_count": 9,
   "metadata": {},
   "outputs": [
    {
     "data": {
      "text/html": [
       "<iframe id=\"igraph\" scrolling=\"no\" style=\"border:none;\" seamless=\"seamless\" src=\"https://plot.ly/~ppantode/5.embed\" height=\"525px\" width=\"100%\"></iframe>"
      ],
      "text/plain": [
       "<chart_studio.tools.PlotlyDisplay object>"
      ]
     },
     "execution_count": 9,
     "metadata": {},
     "output_type": "execute_result"
    }
   ],
   "source": [
    "y = list(range(startYear, startYear + 10*women_bins.size, 10))\n",
    "\n",
    "ticks = list(range(minRange, maxRange, int((maxRange-minRange)/10)))\n",
    "ticks = [(int(i/1000))*1000 for i in ticks]\n",
    "\n",
    "#ticks = list(range(minRange-100, maxRange+100, int((maxRange-minRange)/10)))\n",
    "#ticks = [(int(i/100))*100 for i in ticks]\n",
    "\n",
    "layout = go.Layout(yaxis=go.layout.YAxis(title='Year'),\n",
    "                   xaxis=go.layout.XAxis(\n",
    "                       range=[minRange, maxRange],\n",
    "                       tickvals=ticks,\n",
    "                       ticktext=[abs(i) for i in ticks],\n",
    "                       title='Male and Female Population'),\n",
    "                   barmode='overlay',\n",
    "                   bargap=0.1)\n",
    "\n",
    "data = [go.Bar(y=y,\n",
    "               x=men_bins,\n",
    "               orientation='h',\n",
    "               name='Men',\n",
    "               text=men_bins.astype('int'),\n",
    "               hoverinfo='text',\n",
    "               marker=dict(color='blue')\n",
    "               ),\n",
    "        go.Bar(y=y,\n",
    "               x=women_bins,\n",
    "               orientation='h',\n",
    "               name='Women',\n",
    "               text=-1 * women_bins.astype('int'),\n",
    "               hoverinfo='text',\n",
    "               marker=dict(color='pink')\n",
    "               )]\n",
    "\n",
    "py.iplot(dict(data=data, layout=layout), filename='bar_pyramid') \n"
   ]
  },
  {
   "cell_type": "code",
   "execution_count": null,
   "metadata": {},
   "outputs": [],
   "source": []
  }
 ],
 "metadata": {
  "kernelspec": {
   "display_name": "Python 3",
   "language": "python",
   "name": "python3"
  },
  "language_info": {
   "codemirror_mode": {
    "name": "ipython",
    "version": 3
   },
   "file_extension": ".py",
   "mimetype": "text/x-python",
   "name": "python",
   "nbconvert_exporter": "python",
   "pygments_lexer": "ipython3",
   "version": "3.6.4"
  }
 },
 "nbformat": 4,
 "nbformat_minor": 2
}
