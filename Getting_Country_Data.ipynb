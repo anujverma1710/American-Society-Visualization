{
 "cells": [
  {
   "cell_type": "code",
   "execution_count": 1,
   "metadata": {},
   "outputs": [],
   "source": [
    "import pandas as pd\n",
    "import numpy as np"
   ]
  },
  {
   "cell_type": "code",
   "execution_count": 2,
   "metadata": {},
   "outputs": [],
   "source": [
    "Origin = ['Europe', 'Asia', 'Africa', 'Oceania', 'Americas']\n",
    "years = [\"1970\", \"1980\", \"1990\", \"2000\", \"2010\"]"
   ]
  },
  {
   "cell_type": "code",
   "execution_count": 3,
   "metadata": {},
   "outputs": [],
   "source": [
    "def getRatioData(df):\n",
    "    \n",
    "    total = df[\"Total_Population\"]\n",
    "    \n",
    "    # Gender Based\n",
    "    df[\"Male_Ratio\"] = df[\"Male\"]/total\n",
    "    df[\"Female_Ratio\"] = df[\"Female\"]/total\n",
    "    # Read as Males per 1000 Females\n",
    "    df[\"Sex_Ratio\"] = (df[\"Male\"] * 1000 )/df[\"Female\"]\n",
    "    \n",
    "    # Location Based\n",
    "    df[\"Urban_Ratio\"] = df[\"Urban\"]/total\n",
    "    df[\"Suburban_Ratio\"] = df[\"Suburban\"]/total\n",
    "    df[\"Rural_Ratio\"] = df[\"Rural\"]/total\n",
    "    # Read as Rural People per 1000 Urban\n",
    "    df[\"Location_Ratio\"] = (df[\"Rural\"] * 1000) / (df[\"Urban\"] + df[\"Suburban\"])\n",
    "    \n",
    "    # Race Based\n",
    "    df['W_Ratio']    = df['W']/total\n",
    "    df['AA_Ratio']   = df['AA']/total\n",
    "    df['AI_Ratio']   = df['AI']/total\n",
    "    df['APAC_Ratio'] = df['APAC']/total\n",
    "    # Read as No. of People of other races per 1000 Whites\n",
    "    df['Race_Ratio'] = ((df['AA'] + df['AI'] + df['APAC']) * 1000)/df['W']\n",
    "    \n",
    "    # Origin Based\n",
    "    df[\"Native_Ratio\"]  = df[\"Native\"] / total\n",
    "    df[\"Foreign_Ratio\"] = df[\"Foreign\"] / total\n",
    "    # Read as No. of Foreign per 1000 Natives\n",
    "    df[\"Origin_Ratio\"] = (df[\"Foreign\"] * 1000) / df[\"Native\"]\n",
    "    \n",
    "    # Read as No of j per 1000 Foreigners\n",
    "    for k, j in enumerate(Origin):\n",
    "        df[j + '_Ratio'] = df[j] / df[\"Foreign\"]\n",
    "        \n",
    "    # No of People below Poverty Level per 1000 People\n",
    "    df[\"Poverty_Ratio\"] = (df[\"Poverty\"] * 1000)/total\n",
    "    \n",
    "    # People per Housing Units\n",
    "    df[\"Housing_Ratio\"] = total/df[\"HousingUnits\"]\n",
    "    \n",
    "    # Gender-Education Based\n",
    "    tempList = ['5', '8', '11', 'A', 'B', 'G']\n",
    "    # Male\n",
    "    totalMale = df[\"Male_5\"] + df[\"Male_8\"] + df[\"Male_11\"] + df[\"Male_A\"] + df[\"Male_B\"] + df[\"Male_G\"]\n",
    "    for i in tempList:\n",
    "        df[\"Male_\" + i + \"_Ratio\"] = df[\"Male_\" + i] / totalMale\n",
    "        \n",
    "    # Female\n",
    "    totalFemale = df[\"Female_5\"] + df[\"Female_8\"] + df[\"Female_11\"] + df[\"Female_A\"] + df[\"Female_B\"] + df[\"Female_G\"]\n",
    "    for i in tempList:\n",
    "        df[\"Female_\" + i + \"_Ratio\"] = df[\"Female_\" + i]/totalFemale\n",
    "        \n",
    "    # Read as College Educated Females per 1000 College Educated Males\n",
    "    educatedFemales = df[\"Female_A\"] + df[\"Female_B\"] + df[\"Female_G\"]\n",
    "    educatedMales = df[\"Male_A\"] + df[\"Male_B\"] + df[\"Male_G\"]\n",
    "    df[\"Educated_Sex_Ratio\"] = (educatedFemales * 1000)/educatedMales\n",
    "    \n",
    "    # Read Population above 25 College Educated per 1000 people above 25\n",
    "    df[\"College_Educated_Ratio\"] = ((educatedFemales + educatedMales) * 1000)/(totalFemale + totalMale)\n",
    "    \n",
    "    return df"
   ]
  },
  {
   "cell_type": "code",
   "execution_count": 4,
   "metadata": {},
   "outputs": [],
   "source": [
    "columns = ['Total_Population', 'Urban', 'Suburban', 'Rural', 'Male',\n",
    "           'Female', 'W', 'AA', 'AI', 'APAC', 'Native', 'Foreign', 'Europe',\n",
    "           'Asia', 'Africa', 'Oceania', 'Americas', 'Male_5', 'Male_8', 'Male_11',\n",
    "           'Male_A', 'Male_B', 'Male_G', 'Female_5', 'Female_8', 'Female_11',\n",
    "           'Female_A', 'Female_B', 'Female_G', 'Household_1', 'Household_2',\n",
    "           'Household_3', 'Household_4', 'MedianIncome', 'Family_1', 'Family_2',\n",
    "           'Family_3', 'Family_4', 'Family_5', 'PerCapitaIncome', 'Poverty',\n",
    "           'HousingUnits']"
   ]
  },
  {
   "cell_type": "code",
   "execution_count": 5,
   "metadata": {},
   "outputs": [],
   "source": [
    "dataFrame = pd.DataFrame()\n",
    "for year in years:\n",
    "    \n",
    "    # Read CSV using pandas\n",
    "    df = pd.read_csv('flaskDirectory/NayaWalaDataset/Data' + year + '.csv',usecols=columns)\n",
    "    \n",
    "    # Get the Overall Sum\n",
    "    tempdf = df.sum(axis = 0)\n",
    "    \n",
    "    # Get it in correct shape\n",
    "    tempdf = pd.DataFrame(tempdf)\n",
    "    tempdf = tempdf.T\n",
    "    tempdf[\"YEAR\"] = str(year)\n",
    "    \n",
    "    # Concat it to global DataFrame\n",
    "    dataFrame = pd.concat([tempdf, dataFrame], axis=0)"
   ]
  },
  {
   "cell_type": "code",
   "execution_count": 6,
   "metadata": {},
   "outputs": [],
   "source": [
    "# Get Ratio Data. Same fxn as in Getting_Year_Wise_Data\n",
    "dataFrame = getRatioData(dataFrame)\n",
    "\n",
    "dataFrame.set_index('YEAR', inplace=True)"
   ]
  },
  {
   "cell_type": "code",
   "execution_count": 9,
   "metadata": {},
   "outputs": [],
   "source": [
    "dataFrame.to_csv('flaskDirectory/NayaWalaDataset/Aggregate_Data.csv')"
   ]
  },
  {
   "cell_type": "code",
   "execution_count": null,
   "metadata": {},
   "outputs": [],
   "source": []
  }
 ],
 "metadata": {
  "kernelspec": {
   "display_name": "Python 3",
   "language": "python",
   "name": "python3"
  },
  "language_info": {
   "codemirror_mode": {
    "name": "ipython",
    "version": 3
   },
   "file_extension": ".py",
   "mimetype": "text/x-python",
   "name": "python",
   "nbconvert_exporter": "python",
   "pygments_lexer": "ipython3",
   "version": "3.6.4"
  }
 },
 "nbformat": 4,
 "nbformat_minor": 2
}
