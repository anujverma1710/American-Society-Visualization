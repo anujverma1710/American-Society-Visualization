{
  "cells": [
    {
      "cell_type": "code",
      "execution_count": 1,
      "metadata": {
        "pycharm": {}
      },
      "outputs": [
        {
          "name": "stdout",
          "output_type": "stream",
          "text": [
            "[\u0027STATE\u0027, \u0027A08AA1820\u0027, \u0027A08AB1820\u0027, \u0027A08AA1830\u0027, \u0027A08AB1830\u0027, \u0027A08AA1840\u0027, \u0027A08AB1840\u0027, \u0027A08AA1850\u0027, \u0027A08AB1850\u0027, \u0027A08AA1860\u0027, \u0027A08AB1860\u0027, \u0027A08AA1870\u0027, \u0027A08AB1870\u0027, \u0027A08AA1880\u0027, \u0027A08AB1880\u0027, \u0027A08AA1890\u0027, \u0027A08AB1890\u0027, \u0027A08AA1900\u0027, \u0027A08AB1900\u0027, \u0027A08AA1910\u0027, \u0027A08AB1910\u0027, \u0027A08AA1920\u0027, \u0027A08AB1920\u0027, \u0027A08AA1930\u0027, \u0027A08AB1930\u0027, \u0027A08AA1940\u0027, \u0027A08AB1940\u0027, \u0027A08AA1950\u0027, \u0027A08AB1950\u0027, \u0027A08AA1960\u0027, \u0027A08AB1960\u0027, \u0027A08AA1970\u0027, \u0027A08AB1970\u0027, \u0027A08AA1980\u0027, \u0027A08AB1980\u0027, \u0027A08AA1990\u0027, \u0027A08AB1990\u0027, \u0027A08AA2000\u0027, \u0027A08AB2000\u0027, \u0027A08AA2010\u0027, \u0027A08AB2010\u0027]\n"
          ]
        }
      ],
      "source": [
        "import pandas as pd\n",
        "\n",
        "totalPopulationColumnNames \u003d [\u0027STATE\u0027]\n",
        "for i in range(1820, 2020, 10):\n",
        "    totalPopulationColumnNames.append((\u0027A08AA\u0027+str(i)))\n",
        "    totalPopulationColumnNames.append((\u0027A08AB\u0027+str(i)))\n",
        "                                      \n",
        "print(totalPopulationColumnNames)                                "
      ]
    },
    {
      "cell_type": "code",
      "execution_count": 2,
      "metadata": {
        "pycharm": {}
      },
      "outputs": [
        {
          "data": {
            "text/plain": [
              "Index([\u0027STATE\u0027, \u0027A08AA1820\u0027, \u0027A08AA1830\u0027, \u0027A08AA1840\u0027, \u0027A08AA1850\u0027,\n",
              "       \u0027A08AA1860\u0027, \u0027A08AA1870\u0027, \u0027A08AA1880\u0027, \u0027A08AA1890\u0027, \u0027A08AA1900\u0027,\n",
              "       \u0027A08AA1910\u0027, \u0027A08AA1920\u0027, \u0027A08AA1930\u0027, \u0027A08AA1940\u0027, \u0027A08AA1950\u0027,\n",
              "       \u0027A08AA1960\u0027, \u0027A08AA1970\u0027, \u0027A08AA1980\u0027, \u0027A08AA1990\u0027, \u0027A08AA2000\u0027,\n",
              "       \u0027A08AA2010\u0027, \u0027A08AB1820\u0027, \u0027A08AB1830\u0027, \u0027A08AB1840\u0027, \u0027A08AB1850\u0027,\n",
              "       \u0027A08AB1860\u0027, \u0027A08AB1870\u0027, \u0027A08AB1880\u0027, \u0027A08AB1890\u0027, \u0027A08AB1900\u0027,\n",
              "       \u0027A08AB1910\u0027, \u0027A08AB1920\u0027, \u0027A08AB1930\u0027, \u0027A08AB1940\u0027, \u0027A08AB1950\u0027,\n",
              "       \u0027A08AB1960\u0027, \u0027A08AB1970\u0027, \u0027A08AB1980\u0027, \u0027A08AB1990\u0027, \u0027A08AB2000\u0027,\n",
              "       \u0027A08AB2010\u0027],\n",
              "      dtype\u003d\u0027object\u0027)"
            ]
          },
          "execution_count": 2,
          "metadata": {},
          "output_type": "execute_result"
        }
      ],
      "source": [
        "df \u003d pd.read_csv(\u0027flaskDirectory/Dataset/nhgis0002_ts_nominal_state.csv\u0027, usecols\u003dtotalPopulationColumnNames)\n",
        "df.columns"
      ]
    },
    {
      "cell_type": "code",
      "execution_count": 3,
      "metadata": {
        "pycharm": {}
      },
      "outputs": [],
      "source": [
        "df.drop(df.index[[0]], inplace\u003dTrue)"
      ]
    },
    {
      "cell_type": "code",
      "execution_count": 4,
      "metadata": {
        "pycharm": {}
      },
      "outputs": [],
      "source": [
        "df.fillna(value\u003d0, inplace\u003dTrue)"
      ]
    },
    {
      "cell_type": "code",
      "execution_count": 5,
      "metadata": {
        "pycharm": {}
      },
      "outputs": [],
      "source": [
        "k \u003d [ i for i in df[\u0027STATE\u0027] if i.endswith(\u0027Territory\u0027)]\n",
        "k.append(\u0027Puerto Rico\u0027)\n",
        "k.append(\u0027Persons in the Military\u0027)"
      ]
    },
    {
      "cell_type": "code",
      "execution_count": 6,
      "metadata": {
        "pycharm": {}
      },
      "outputs": [
        {
          "name": "stdout",
          "output_type": "stream",
          "text": [
            "[\u0027Alaska Territory\u0027, \u0027Arizona Territory\u0027, \u0027Arkansas Territory\u0027, \u0027Colorado Territory\u0027, \u0027Dakota Territory\u0027, \u0027Florida Territory\u0027, \u0027Hawaii Territory\u0027, \u0027Idaho Territory\u0027, \u0027Illinois Territory\u0027, \u0027Indian Territory\u0027, \u0027Indiana Territory\u0027, \u0027Iowa Territory\u0027, \u0027Kansas Territory\u0027, \u0027Louisiana Territory\u0027, \u0027Michigan Territory\u0027, \u0027Minnesota Territory\u0027, \u0027Mississippi Territory\u0027, \u0027Missouri Territory\u0027, \u0027Montana Territory\u0027, \u0027Nebraska Territory\u0027, \u0027Nevada Territory\u0027, \u0027New Mexico Territory\u0027, \u0027Northwest Territory\u0027, \u0027Oklahoma Territory\u0027, \u0027Oregon Territory\u0027, \u0027Orleans Territory\u0027, \u0027Southwest Territory\u0027, \u0027Utah Territory\u0027, \u0027Washington Territory\u0027, \u0027Wisconsin Territory\u0027, \u0027Wyoming Territory\u0027, \u0027Puerto Rico\u0027, \u0027Persons in the Military\u0027]\n"
          ]
        }
      ],
      "source": [
        "print(k)"
      ]
    },
    {
      "cell_type": "code",
      "execution_count": 7,
      "metadata": {
        "pycharm": {}
      },
      "outputs": [],
      "source": [
        "rm \u003d []\n",
        "for x in k:\n",
        "    y \u003d df[\u0027STATE\u0027] \u003d\u003d x\n",
        "    for z,i in enumerate(y):\n",
        "        if i:\n",
        "            rm.append(z)"
      ]
    },
    {
      "cell_type": "code",
      "execution_count": 8,
      "metadata": {
        "pycharm": {}
      },
      "outputs": [],
      "source": [
        "df.drop(df.index[rm], inplace\u003dTrue)"
      ]
    },
    {
      "cell_type": "code",
      "execution_count": 9,
      "metadata": {
        "pycharm": {}
      },
      "outputs": [],
      "source": [
        "for c in totalPopulationColumnNames[1:]:\n",
        "    df[c] \u003d pd.to_numeric(df[c])"
      ]
    },
    {
      "cell_type": "code",
      "execution_count": 10,
      "metadata": {
        "pycharm": {}
      },
      "outputs": [],
      "source": "for i in range(1820, 2020, 10):\n    male, female \u003d \u0027A08AA\u0027+str(i), \u0027A08AB\u0027+str(i)\n    df[\u0027Male_Ratio_\u0027+ str(i)]   \u003d   df[male]/(df[male] + df[female])\n    df[\u0027Female_Ratio_\u0027+ str(i)] \u003d df[female]/(df[male] + df[female])\n    df[\u0027Total_Population_\u0027 + str(i)] \u003d df[male] + df[female]"
    },
    {
      "cell_type": "code",
      "execution_count": 11,
      "metadata": {
        "pycharm": {}
      },
      "outputs": [
        {
          "data": {
            "text/plain": [
              "(51, 101)"
            ]
          },
          "execution_count": 11,
          "metadata": {},
          "output_type": "execute_result"
        }
      ],
      "source": [
        "df.shape"
      ]
    },
    {
      "cell_type": "code",
      "execution_count": 12,
      "metadata": {
        "pycharm": {}
      },
      "outputs": [
        {
          "data": {
            "text/plain": [
              "(\u0027A08AA2010\u0027, \u0027A08AB2010\u0027)"
            ]
          },
          "execution_count": 12,
          "metadata": {},
          "output_type": "execute_result"
        }
      ],
      "source": [
        "male, female"
      ]
    },
    {
      "cell_type": "code",
      "execution_count": 13,
      "metadata": {
        "pycharm": {}
      },
      "outputs": [],
      "source": [
        "totalPopulationColumnNames \u003d totalPopulationColumnNames[1:]"
      ]
    },
    {
      "cell_type": "code",
      "execution_count": 14,
      "metadata": {
        "pycharm": {}
      },
      "outputs": [],
      "source": [
        "df.drop(columns\u003dtotalPopulationColumnNames, inplace\u003dTrue)"
      ]
    },
    {
      "cell_type": "code",
      "execution_count": 15,
      "metadata": {
        "pycharm": {}
      },
      "outputs": [
        {
          "data": {
            "text/html": [
              "\u003cdiv\u003e\n",
              "\u003cstyle scoped\u003e\n",
              "    .dataframe tbody tr th:only-of-type {\n",
              "        vertical-align: middle;\n",
              "    }\n",
              "\n",
              "    .dataframe tbody tr th {\n",
              "        vertical-align: top;\n",
              "    }\n",
              "\n",
              "    .dataframe thead th {\n",
              "        text-align: right;\n",
              "    }\n",
              "\u003c/style\u003e\n",
              "\u003ctable border\u003d\"1\" class\u003d\"dataframe\"\u003e\n",
              "  \u003cthead\u003e\n",
              "    \u003ctr style\u003d\"text-align: right;\"\u003e\n",
              "      \u003cth\u003e\u003c/th\u003e\n",
              "      \u003cth\u003eSTATE\u003c/th\u003e\n",
              "      \u003cth\u003eMale_Ratio_1820\u003c/th\u003e\n",
              "      \u003cth\u003eFemale_Ratio_1820\u003c/th\u003e\n",
              "      \u003cth\u003eTotal_Population_1820\u003c/th\u003e\n",
              "      \u003cth\u003eMale_Ratio_1830\u003c/th\u003e\n",
              "      \u003cth\u003eFemale_Ratio_1830\u003c/th\u003e\n",
              "      \u003cth\u003eTotal_Population_1830\u003c/th\u003e\n",
              "      \u003cth\u003eMale_Ratio_1840\u003c/th\u003e\n",
              "      \u003cth\u003eFemale_Ratio_1840\u003c/th\u003e\n",
              "      \u003cth\u003eTotal_Population_1840\u003c/th\u003e\n",
              "      \u003cth\u003e...\u003c/th\u003e\n",
              "      \u003cth\u003eTotal_Population_1980\u003c/th\u003e\n",
              "      \u003cth\u003eMale_Ratio_1990\u003c/th\u003e\n",
              "      \u003cth\u003eFemale_Ratio_1990\u003c/th\u003e\n",
              "      \u003cth\u003eTotal_Population_1990\u003c/th\u003e\n",
              "      \u003cth\u003eMale_Ratio_2000\u003c/th\u003e\n",
              "      \u003cth\u003eFemale_Ratio_2000\u003c/th\u003e\n",
              "      \u003cth\u003eTotal_Population_2000\u003c/th\u003e\n",
              "      \u003cth\u003eMale_Ratio_2010\u003c/th\u003e\n",
              "      \u003cth\u003eFemale_Ratio_2010\u003c/th\u003e\n",
              "      \u003cth\u003eTotal_Population_2010\u003c/th\u003e\n",
              "    \u003c/tr\u003e\n",
              "  \u003c/thead\u003e\n",
              "  \u003ctbody\u003e\n",
              "    \u003ctr\u003e\n",
              "      \u003cth\u003e1\u003c/th\u003e\n",
              "      \u003ctd\u003eAlabama\u003c/td\u003e\n",
              "      \u003ctd\u003e0.531169\u003c/td\u003e\n",
              "      \u003ctd\u003e0.468831\u003c/td\u003e\n",
              "      \u003ctd\u003e127901\u003c/td\u003e\n",
              "      \u003ctd\u003e0.519696\u003c/td\u003e\n",
              "      \u003ctd\u003e0.480304\u003c/td\u003e\n",
              "      \u003ctd\u003e309527\u003c/td\u003e\n",
              "      \u003ctd\u003e0.516426\u003c/td\u003e\n",
              "      \u003ctd\u003e0.483574\u003c/td\u003e\n",
              "      \u003ctd\u003e590756\u003c/td\u003e\n",
              "      \u003ctd\u003e...\u003c/td\u003e\n",
              "      \u003ctd\u003e3893888\u003c/td\u003e\n",
              "      \u003ctd\u003e0.479178\u003c/td\u003e\n",
              "      \u003ctd\u003e0.520822\u003c/td\u003e\n",
              "      \u003ctd\u003e4040587\u003c/td\u003e\n",
              "      \u003ctd\u003e0.482675\u003c/td\u003e\n",
              "      \u003ctd\u003e0.517325\u003c/td\u003e\n",
              "      \u003ctd\u003e4447100\u003c/td\u003e\n",
              "      \u003ctd\u003e0.485422\u003c/td\u003e\n",
              "      \u003ctd\u003e0.514578\u003c/td\u003e\n",
              "      \u003ctd\u003e4779736\u003c/td\u003e\n",
              "    \u003c/tr\u003e\n",
              "    \u003ctr\u003e\n",
              "      \u003cth\u003e2\u003c/th\u003e\n",
              "      \u003ctd\u003eAlaska\u003c/td\u003e\n",
              "      \u003ctd\u003eNaN\u003c/td\u003e\n",
              "      \u003ctd\u003eNaN\u003c/td\u003e\n",
              "      \u003ctd\u003e0\u003c/td\u003e\n",
              "      \u003ctd\u003eNaN\u003c/td\u003e\n",
              "      \u003ctd\u003eNaN\u003c/td\u003e\n",
              "      \u003ctd\u003e0\u003c/td\u003e\n",
              "      \u003ctd\u003eNaN\u003c/td\u003e\n",
              "      \u003ctd\u003eNaN\u003c/td\u003e\n",
              "      \u003ctd\u003e0\u003c/td\u003e\n",
              "      \u003ctd\u003e...\u003c/td\u003e\n",
              "      \u003ctd\u003e401851\u003c/td\u003e\n",
              "      \u003ctd\u003e0.526990\u003c/td\u003e\n",
              "      \u003ctd\u003e0.473010\u003c/td\u003e\n",
              "      \u003ctd\u003e550043\u003c/td\u003e\n",
              "      \u003ctd\u003e0.516981\u003c/td\u003e\n",
              "      \u003ctd\u003e0.483019\u003c/td\u003e\n",
              "      \u003ctd\u003e626932\u003c/td\u003e\n",
              "      \u003ctd\u003e0.520433\u003c/td\u003e\n",
              "      \u003ctd\u003e0.479567\u003c/td\u003e\n",
              "      \u003ctd\u003e710231\u003c/td\u003e\n",
              "    \u003c/tr\u003e\n",
              "    \u003ctr\u003e\n",
              "      \u003cth\u003e4\u003c/th\u003e\n",
              "      \u003ctd\u003eArizona\u003c/td\u003e\n",
              "      \u003ctd\u003eNaN\u003c/td\u003e\n",
              "      \u003ctd\u003eNaN\u003c/td\u003e\n",
              "      \u003ctd\u003e0\u003c/td\u003e\n",
              "      \u003ctd\u003eNaN\u003c/td\u003e\n",
              "      \u003ctd\u003eNaN\u003c/td\u003e\n",
              "      \u003ctd\u003e0\u003c/td\u003e\n",
              "      \u003ctd\u003eNaN\u003c/td\u003e\n",
              "      \u003ctd\u003eNaN\u003c/td\u003e\n",
              "      \u003ctd\u003e0\u003c/td\u003e\n",
              "      \u003ctd\u003e...\u003c/td\u003e\n",
              "      \u003ctd\u003e2718215\u003c/td\u003e\n",
              "      \u003ctd\u003e0.494019\u003c/td\u003e\n",
              "      \u003ctd\u003e0.505981\u003c/td\u003e\n",
              "      \u003ctd\u003e3665228\u003c/td\u003e\n",
              "      \u003ctd\u003e0.499170\u003c/td\u003e\n",
              "      \u003ctd\u003e0.500830\u003c/td\u003e\n",
              "      \u003ctd\u003e5130632\u003c/td\u003e\n",
              "      \u003ctd\u003e0.496842\u003c/td\u003e\n",
              "      \u003ctd\u003e0.503158\u003c/td\u003e\n",
              "      \u003ctd\u003e6392017\u003c/td\u003e\n",
              "    \u003c/tr\u003e\n",
              "    \u003ctr\u003e\n",
              "      \u003cth\u003e6\u003c/th\u003e\n",
              "      \u003ctd\u003eArkansas\u003c/td\u003e\n",
              "      \u003ctd\u003eNaN\u003c/td\u003e\n",
              "      \u003ctd\u003eNaN\u003c/td\u003e\n",
              "      \u003ctd\u003e0\u003c/td\u003e\n",
              "      \u003ctd\u003eNaN\u003c/td\u003e\n",
              "      \u003ctd\u003eNaN\u003c/td\u003e\n",
              "      \u003ctd\u003e0\u003c/td\u003e\n",
              "      \u003ctd\u003e0.538853\u003c/td\u003e\n",
              "      \u003ctd\u003e0.461147\u003c/td\u003e\n",
              "      \u003ctd\u003e97574\u003c/td\u003e\n",
              "      \u003ctd\u003e...\u003c/td\u003e\n",
              "      \u003ctd\u003e2286435\u003c/td\u003e\n",
              "      \u003ctd\u003e0.482011\u003c/td\u003e\n",
              "      \u003ctd\u003e0.517989\u003c/td\u003e\n",
              "      \u003ctd\u003e2350725\u003c/td\u003e\n",
              "      \u003ctd\u003e0.488028\u003c/td\u003e\n",
              "      \u003ctd\u003e0.511972\u003c/td\u003e\n",
              "      \u003ctd\u003e2673400\u003c/td\u003e\n",
              "      \u003ctd\u003e0.490973\u003c/td\u003e\n",
              "      \u003ctd\u003e0.509027\u003c/td\u003e\n",
              "      \u003ctd\u003e2915918\u003c/td\u003e\n",
              "    \u003c/tr\u003e\n",
              "    \u003ctr\u003e\n",
              "      \u003cth\u003e8\u003c/th\u003e\n",
              "      \u003ctd\u003eCalifornia\u003c/td\u003e\n",
              "      \u003ctd\u003eNaN\u003c/td\u003e\n",
              "      \u003ctd\u003eNaN\u003c/td\u003e\n",
              "      \u003ctd\u003e0\u003c/td\u003e\n",
              "      \u003ctd\u003eNaN\u003c/td\u003e\n",
              "      \u003ctd\u003eNaN\u003c/td\u003e\n",
              "      \u003ctd\u003e0\u003c/td\u003e\n",
              "      \u003ctd\u003eNaN\u003c/td\u003e\n",
              "      \u003ctd\u003eNaN\u003c/td\u003e\n",
              "      \u003ctd\u003e0\u003c/td\u003e\n",
              "      \u003ctd\u003e...\u003c/td\u003e\n",
              "      \u003ctd\u003e23667902\u003c/td\u003e\n",
              "      \u003ctd\u003e0.500592\u003c/td\u003e\n",
              "      \u003ctd\u003e0.499408\u003c/td\u003e\n",
              "      \u003ctd\u003e29760021\u003c/td\u003e\n",
              "      \u003ctd\u003e0.498201\u003c/td\u003e\n",
              "      \u003ctd\u003e0.501799\u003c/td\u003e\n",
              "      \u003ctd\u003e33871648\u003c/td\u003e\n",
              "      \u003ctd\u003e0.497070\u003c/td\u003e\n",
              "      \u003ctd\u003e0.502930\u003c/td\u003e\n",
              "      \u003ctd\u003e37253956\u003c/td\u003e\n",
              "    \u003c/tr\u003e\n",
              "  \u003c/tbody\u003e\n",
              "\u003c/table\u003e\n",
              "\u003cp\u003e5 rows × 61 columns\u003c/p\u003e\n",
              "\u003c/div\u003e"
            ],
            "text/plain": [
              "        STATE  Male_Ratio_1820  Female_Ratio_1820  Total_Population_1820  \\\n",
              "1     Alabama         0.531169           0.468831                 127901   \n",
              "2      Alaska              NaN                NaN                      0   \n",
              "4     Arizona              NaN                NaN                      0   \n",
              "6    Arkansas              NaN                NaN                      0   \n",
              "8  California              NaN                NaN                      0   \n",
              "\n",
              "   Male_Ratio_1830  Female_Ratio_1830  Total_Population_1830  Male_Ratio_1840  \\\n",
              "1         0.519696           0.480304                 309527         0.516426   \n",
              "2              NaN                NaN                      0              NaN   \n",
              "4              NaN                NaN                      0              NaN   \n",
              "6              NaN                NaN                      0         0.538853   \n",
              "8              NaN                NaN                      0              NaN   \n",
              "\n",
              "   Female_Ratio_1840  Total_Population_1840          ...            \\\n",
              "1           0.483574                 590756          ...             \n",
              "2                NaN                      0          ...             \n",
              "4                NaN                      0          ...             \n",
              "6           0.461147                  97574          ...             \n",
              "8                NaN                      0          ...             \n",
              "\n",
              "   Total_Population_1980  Male_Ratio_1990  Female_Ratio_1990  \\\n",
              "1                3893888         0.479178           0.520822   \n",
              "2                 401851         0.526990           0.473010   \n",
              "4                2718215         0.494019           0.505981   \n",
              "6                2286435         0.482011           0.517989   \n",
              "8               23667902         0.500592           0.499408   \n",
              "\n",
              "   Total_Population_1990  Male_Ratio_2000  Female_Ratio_2000  \\\n",
              "1                4040587         0.482675           0.517325   \n",
              "2                 550043         0.516981           0.483019   \n",
              "4                3665228         0.499170           0.500830   \n",
              "6                2350725         0.488028           0.511972   \n",
              "8               29760021         0.498201           0.501799   \n",
              "\n",
              "   Total_Population_2000  Male_Ratio_2010  Female_Ratio_2010  \\\n",
              "1                4447100         0.485422           0.514578   \n",
              "2                 626932         0.520433           0.479567   \n",
              "4                5130632         0.496842           0.503158   \n",
              "6                2673400         0.490973           0.509027   \n",
              "8               33871648         0.497070           0.502930   \n",
              "\n",
              "   Total_Population_2010  \n",
              "1                4779736  \n",
              "2                 710231  \n",
              "4                6392017  \n",
              "6                2915918  \n",
              "8               37253956  \n",
              "\n",
              "[5 rows x 61 columns]"
            ]
          },
          "execution_count": 15,
          "metadata": {},
          "output_type": "execute_result"
        }
      ],
      "source": [
        "df.head()"
      ]
    },
    {
      "cell_type": "code",
      "execution_count": 16,
      "metadata": {
        "pycharm": {}
      },
      "outputs": [],
      "source": "df.to_csv(\u0027flaskDirectory/Sex_Ratio_Data.csv\u0027, index\u003dFalse)"
    },
    {
      "cell_type": "code",
      "execution_count": null,
      "metadata": {
        "pycharm": {}
      },
      "outputs": [],
      "source": []
    }
  ],
  "metadata": {
    "kernelspec": {
      "display_name": "Python 3",
      "language": "python",
      "name": "python3"
    },
    "language_info": {
      "codemirror_mode": {
        "name": "ipython",
        "version": 3
      },
      "file_extension": ".py",
      "mimetype": "text/x-python",
      "name": "python",
      "nbconvert_exporter": "python",
      "pygments_lexer": "ipython3",
      "version": "3.6.4"
    }
  },
  "nbformat": 4,
  "nbformat_minor": 2
}