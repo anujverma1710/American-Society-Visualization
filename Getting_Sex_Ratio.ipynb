{
 "cells": [
  {
   "cell_type": "code",
   "execution_count": 1,
   "metadata": {},
   "outputs": [
    {
     "name": "stdout",
     "output_type": "stream",
     "text": [
      "['STATE', 'A08AA1820', 'A08AB1820', 'A08AA1830', 'A08AB1830', 'A08AA1840', 'A08AB1840', 'A08AA1850', 'A08AB1850', 'A08AA1860', 'A08AB1860', 'A08AA1870', 'A08AB1870', 'A08AA1880', 'A08AB1880', 'A08AA1890', 'A08AB1890', 'A08AA1900', 'A08AB1900', 'A08AA1910', 'A08AB1910', 'A08AA1920', 'A08AB1920', 'A08AA1930', 'A08AB1930', 'A08AA1940', 'A08AB1940', 'A08AA1950', 'A08AB1950', 'A08AA1960', 'A08AB1960', 'A08AA1970', 'A08AB1970', 'A08AA1980', 'A08AB1980', 'A08AA1990', 'A08AB1990', 'A08AA2000', 'A08AB2000', 'A08AA2010', 'A08AB2010']\n"
     ]
    }
   ],
   "source": [
    "import pandas as pd\n",
    "\n",
    "totalPopulationColumnNames = ['STATE']\n",
    "for i in range(1820, 2020, 10):\n",
    "    totalPopulationColumnNames.append(('A08AA'+str(i)))\n",
    "    totalPopulationColumnNames.append(('A08AB'+str(i)))\n",
    "                                      \n",
    "print(totalPopulationColumnNames)                                "
   ]
  },
  {
   "cell_type": "code",
   "execution_count": 2,
   "metadata": {},
   "outputs": [
    {
     "data": {
      "text/plain": [
       "Index(['STATE', 'A08AA1820', 'A08AA1830', 'A08AA1840', 'A08AA1850',\n",
       "       'A08AA1860', 'A08AA1870', 'A08AA1880', 'A08AA1890', 'A08AA1900',\n",
       "       'A08AA1910', 'A08AA1920', 'A08AA1930', 'A08AA1940', 'A08AA1950',\n",
       "       'A08AA1960', 'A08AA1970', 'A08AA1980', 'A08AA1990', 'A08AA2000',\n",
       "       'A08AA2010', 'A08AB1820', 'A08AB1830', 'A08AB1840', 'A08AB1850',\n",
       "       'A08AB1860', 'A08AB1870', 'A08AB1880', 'A08AB1890', 'A08AB1900',\n",
       "       'A08AB1910', 'A08AB1920', 'A08AB1930', 'A08AB1940', 'A08AB1950',\n",
       "       'A08AB1960', 'A08AB1970', 'A08AB1980', 'A08AB1990', 'A08AB2000',\n",
       "       'A08AB2010'],\n",
       "      dtype='object')"
      ]
     },
     "execution_count": 2,
     "metadata": {},
     "output_type": "execute_result"
    }
   ],
   "source": [
    "df = pd.read_csv('flaskDirectory/Dataset/nhgis0002_ts_nominal_state.csv', usecols=totalPopulationColumnNames)\n",
    "df.columns"
   ]
  },
  {
   "cell_type": "code",
   "execution_count": 3,
   "metadata": {},
   "outputs": [],
   "source": [
    "df.drop(df.index[[0]], inplace=True)"
   ]
  },
  {
   "cell_type": "code",
   "execution_count": 4,
   "metadata": {},
   "outputs": [],
   "source": [
    "df.fillna(value=0, inplace=True)"
   ]
  },
  {
   "cell_type": "code",
   "execution_count": 5,
   "metadata": {},
   "outputs": [],
   "source": [
    "k = [ i for i in df['STATE'] if i.endswith('Territory')]\n",
    "k.append('Puerto Rico')\n",
    "k.append('Persons in the Military')"
   ]
  },
  {
   "cell_type": "code",
   "execution_count": 6,
   "metadata": {},
   "outputs": [
    {
     "name": "stdout",
     "output_type": "stream",
     "text": [
      "['Alaska Territory', 'Arizona Territory', 'Arkansas Territory', 'Colorado Territory', 'Dakota Territory', 'Florida Territory', 'Hawaii Territory', 'Idaho Territory', 'Illinois Territory', 'Indian Territory', 'Indiana Territory', 'Iowa Territory', 'Kansas Territory', 'Louisiana Territory', 'Michigan Territory', 'Minnesota Territory', 'Mississippi Territory', 'Missouri Territory', 'Montana Territory', 'Nebraska Territory', 'Nevada Territory', 'New Mexico Territory', 'Northwest Territory', 'Oklahoma Territory', 'Oregon Territory', 'Orleans Territory', 'Southwest Territory', 'Utah Territory', 'Washington Territory', 'Wisconsin Territory', 'Wyoming Territory', 'Puerto Rico', 'Persons in the Military']\n"
     ]
    }
   ],
   "source": [
    "print(k)"
   ]
  },
  {
   "cell_type": "code",
   "execution_count": 7,
   "metadata": {},
   "outputs": [],
   "source": [
    "rm = []\n",
    "for x in k:\n",
    "    y = df['STATE'] == x\n",
    "    for z,i in enumerate(y):\n",
    "        if i:\n",
    "            rm.append(z)"
   ]
  },
  {
   "cell_type": "code",
   "execution_count": 8,
   "metadata": {},
   "outputs": [],
   "source": [
    "df.drop(df.index[rm], inplace=True)"
   ]
  },
  {
   "cell_type": "code",
   "execution_count": 9,
   "metadata": {},
   "outputs": [],
   "source": [
    "for c in totalPopulationColumnNames[1:]:\n",
    "    df[c] = pd.to_numeric(df[c])"
   ]
  },
  {
   "cell_type": "code",
   "execution_count": 10,
   "metadata": {},
   "outputs": [],
   "source": [
    "for i in range(1820, 2020, 10):\n",
    "    male, female = 'A08AA'+str(i), 'A08AB'+str(i)\n",
    "    df['Male_Ratio_'+ str(i)]   =   df[male]/(df[male] + df[female])\n",
    "    df['Female_Ratio_'+ str(i)] = df[female]/(df[male] + df[female])\n",
    "    df['Total_Population_' + str(i)] = df[male] + df[female]"
   ]
  },
  {
   "cell_type": "code",
   "execution_count": 11,
   "metadata": {},
   "outputs": [
    {
     "data": {
      "text/plain": [
       "(51, 101)"
      ]
     },
     "execution_count": 11,
     "metadata": {},
     "output_type": "execute_result"
    }
   ],
   "source": [
    "df.shape"
   ]
  },
  {
   "cell_type": "code",
   "execution_count": 12,
   "metadata": {},
   "outputs": [
    {
     "data": {
      "text/plain": [
       "('A08AA2010', 'A08AB2010')"
      ]
     },
     "execution_count": 12,
     "metadata": {},
     "output_type": "execute_result"
    }
   ],
   "source": [
    "male, female"
   ]
  },
  {
   "cell_type": "code",
   "execution_count": 13,
   "metadata": {},
   "outputs": [],
   "source": [
    "totalPopulationColumnNames = totalPopulationColumnNames[1:]"
   ]
  },
  {
   "cell_type": "code",
   "execution_count": 14,
   "metadata": {},
   "outputs": [],
   "source": [
    "df.drop(columns=totalPopulationColumnNames, inplace=True)"
   ]
  },
  {
   "cell_type": "code",
   "execution_count": 15,
   "metadata": {},
   "outputs": [
    {
     "data": {
      "text/html": [
       "<div>\n",
       "<style scoped>\n",
       "    .dataframe tbody tr th:only-of-type {\n",
       "        vertical-align: middle;\n",
       "    }\n",
       "\n",
       "    .dataframe tbody tr th {\n",
       "        vertical-align: top;\n",
       "    }\n",
       "\n",
       "    .dataframe thead th {\n",
       "        text-align: right;\n",
       "    }\n",
       "</style>\n",
       "<table border=\"1\" class=\"dataframe\">\n",
       "  <thead>\n",
       "    <tr style=\"text-align: right;\">\n",
       "      <th></th>\n",
       "      <th>STATE</th>\n",
       "      <th>Male_Ratio_1820</th>\n",
       "      <th>Female_Ratio_1820</th>\n",
       "      <th>Total_Population_1820</th>\n",
       "      <th>Male_Ratio_1830</th>\n",
       "      <th>Female_Ratio_1830</th>\n",
       "      <th>Total_Population_1830</th>\n",
       "      <th>Male_Ratio_1840</th>\n",
       "      <th>Female_Ratio_1840</th>\n",
       "      <th>Total_Population_1840</th>\n",
       "      <th>...</th>\n",
       "      <th>Total_Population_1980</th>\n",
       "      <th>Male_Ratio_1990</th>\n",
       "      <th>Female_Ratio_1990</th>\n",
       "      <th>Total_Population_1990</th>\n",
       "      <th>Male_Ratio_2000</th>\n",
       "      <th>Female_Ratio_2000</th>\n",
       "      <th>Total_Population_2000</th>\n",
       "      <th>Male_Ratio_2010</th>\n",
       "      <th>Female_Ratio_2010</th>\n",
       "      <th>Total_Population_2010</th>\n",
       "    </tr>\n",
       "  </thead>\n",
       "  <tbody>\n",
       "    <tr>\n",
       "      <th>1</th>\n",
       "      <td>Alabama</td>\n",
       "      <td>0.531169</td>\n",
       "      <td>0.468831</td>\n",
       "      <td>127901</td>\n",
       "      <td>0.519696</td>\n",
       "      <td>0.480304</td>\n",
       "      <td>309527</td>\n",
       "      <td>0.516426</td>\n",
       "      <td>0.483574</td>\n",
       "      <td>590756</td>\n",
       "      <td>...</td>\n",
       "      <td>3893888</td>\n",
       "      <td>0.479178</td>\n",
       "      <td>0.520822</td>\n",
       "      <td>4040587</td>\n",
       "      <td>0.482675</td>\n",
       "      <td>0.517325</td>\n",
       "      <td>4447100</td>\n",
       "      <td>0.485422</td>\n",
       "      <td>0.514578</td>\n",
       "      <td>4779736</td>\n",
       "    </tr>\n",
       "    <tr>\n",
       "      <th>2</th>\n",
       "      <td>Alaska</td>\n",
       "      <td>NaN</td>\n",
       "      <td>NaN</td>\n",
       "      <td>0</td>\n",
       "      <td>NaN</td>\n",
       "      <td>NaN</td>\n",
       "      <td>0</td>\n",
       "      <td>NaN</td>\n",
       "      <td>NaN</td>\n",
       "      <td>0</td>\n",
       "      <td>...</td>\n",
       "      <td>401851</td>\n",
       "      <td>0.526990</td>\n",
       "      <td>0.473010</td>\n",
       "      <td>550043</td>\n",
       "      <td>0.516981</td>\n",
       "      <td>0.483019</td>\n",
       "      <td>626932</td>\n",
       "      <td>0.520433</td>\n",
       "      <td>0.479567</td>\n",
       "      <td>710231</td>\n",
       "    </tr>\n",
       "    <tr>\n",
       "      <th>4</th>\n",
       "      <td>Arizona</td>\n",
       "      <td>NaN</td>\n",
       "      <td>NaN</td>\n",
       "      <td>0</td>\n",
       "      <td>NaN</td>\n",
       "      <td>NaN</td>\n",
       "      <td>0</td>\n",
       "      <td>NaN</td>\n",
       "      <td>NaN</td>\n",
       "      <td>0</td>\n",
       "      <td>...</td>\n",
       "      <td>2718215</td>\n",
       "      <td>0.494019</td>\n",
       "      <td>0.505981</td>\n",
       "      <td>3665228</td>\n",
       "      <td>0.499170</td>\n",
       "      <td>0.500830</td>\n",
       "      <td>5130632</td>\n",
       "      <td>0.496842</td>\n",
       "      <td>0.503158</td>\n",
       "      <td>6392017</td>\n",
       "    </tr>\n",
       "    <tr>\n",
       "      <th>6</th>\n",
       "      <td>Arkansas</td>\n",
       "      <td>NaN</td>\n",
       "      <td>NaN</td>\n",
       "      <td>0</td>\n",
       "      <td>NaN</td>\n",
       "      <td>NaN</td>\n",
       "      <td>0</td>\n",
       "      <td>0.538853</td>\n",
       "      <td>0.461147</td>\n",
       "      <td>97574</td>\n",
       "      <td>...</td>\n",
       "      <td>2286435</td>\n",
       "      <td>0.482011</td>\n",
       "      <td>0.517989</td>\n",
       "      <td>2350725</td>\n",
       "      <td>0.488028</td>\n",
       "      <td>0.511972</td>\n",
       "      <td>2673400</td>\n",
       "      <td>0.490973</td>\n",
       "      <td>0.509027</td>\n",
       "      <td>2915918</td>\n",
       "    </tr>\n",
       "    <tr>\n",
       "      <th>8</th>\n",
       "      <td>California</td>\n",
       "      <td>NaN</td>\n",
       "      <td>NaN</td>\n",
       "      <td>0</td>\n",
       "      <td>NaN</td>\n",
       "      <td>NaN</td>\n",
       "      <td>0</td>\n",
       "      <td>NaN</td>\n",
       "      <td>NaN</td>\n",
       "      <td>0</td>\n",
       "      <td>...</td>\n",
       "      <td>23667902</td>\n",
       "      <td>0.500592</td>\n",
       "      <td>0.499408</td>\n",
       "      <td>29760021</td>\n",
       "      <td>0.498201</td>\n",
       "      <td>0.501799</td>\n",
       "      <td>33871648</td>\n",
       "      <td>0.497070</td>\n",
       "      <td>0.502930</td>\n",
       "      <td>37253956</td>\n",
       "    </tr>\n",
       "  </tbody>\n",
       "</table>\n",
       "<p>5 rows × 61 columns</p>\n",
       "</div>"
      ],
      "text/plain": [
       "        STATE  Male_Ratio_1820  Female_Ratio_1820  Total_Population_1820  \\\n",
       "1     Alabama         0.531169           0.468831                 127901   \n",
       "2      Alaska              NaN                NaN                      0   \n",
       "4     Arizona              NaN                NaN                      0   \n",
       "6    Arkansas              NaN                NaN                      0   \n",
       "8  California              NaN                NaN                      0   \n",
       "\n",
       "   Male_Ratio_1830  Female_Ratio_1830  Total_Population_1830  Male_Ratio_1840  \\\n",
       "1         0.519696           0.480304                 309527         0.516426   \n",
       "2              NaN                NaN                      0              NaN   \n",
       "4              NaN                NaN                      0              NaN   \n",
       "6              NaN                NaN                      0         0.538853   \n",
       "8              NaN                NaN                      0              NaN   \n",
       "\n",
       "   Female_Ratio_1840  Total_Population_1840          ...            \\\n",
       "1           0.483574                 590756          ...             \n",
       "2                NaN                      0          ...             \n",
       "4                NaN                      0          ...             \n",
       "6           0.461147                  97574          ...             \n",
       "8                NaN                      0          ...             \n",
       "\n",
       "   Total_Population_1980  Male_Ratio_1990  Female_Ratio_1990  \\\n",
       "1                3893888         0.479178           0.520822   \n",
       "2                 401851         0.526990           0.473010   \n",
       "4                2718215         0.494019           0.505981   \n",
       "6                2286435         0.482011           0.517989   \n",
       "8               23667902         0.500592           0.499408   \n",
       "\n",
       "   Total_Population_1990  Male_Ratio_2000  Female_Ratio_2000  \\\n",
       "1                4040587         0.482675           0.517325   \n",
       "2                 550043         0.516981           0.483019   \n",
       "4                3665228         0.499170           0.500830   \n",
       "6                2350725         0.488028           0.511972   \n",
       "8               29760021         0.498201           0.501799   \n",
       "\n",
       "   Total_Population_2000  Male_Ratio_2010  Female_Ratio_2010  \\\n",
       "1                4447100         0.485422           0.514578   \n",
       "2                 626932         0.520433           0.479567   \n",
       "4                5130632         0.496842           0.503158   \n",
       "6                2673400         0.490973           0.509027   \n",
       "8               33871648         0.497070           0.502930   \n",
       "\n",
       "   Total_Population_2010  \n",
       "1                4779736  \n",
       "2                 710231  \n",
       "4                6392017  \n",
       "6                2915918  \n",
       "8               37253956  \n",
       "\n",
       "[5 rows x 61 columns]"
      ]
     },
     "execution_count": 15,
     "metadata": {},
     "output_type": "execute_result"
    }
   ],
   "source": [
    "df.head()"
   ]
  },
  {
   "cell_type": "code",
   "execution_count": 16,
   "metadata": {},
   "outputs": [],
   "source": [
    "df.to_csv('flaskDirectory/Dataset/Sex_Ratio_Data.csv', index=False)"
   ]
  },
  {
   "cell_type": "code",
   "execution_count": null,
   "metadata": {},
   "outputs": [],
   "source": []
  }
 ],
 "metadata": {
  "kernelspec": {
   "display_name": "Python 3",
   "language": "python",
   "name": "python3"
  },
  "language_info": {
   "codemirror_mode": {
    "name": "ipython",
    "version": 3
   },
   "file_extension": ".py",
   "mimetype": "text/x-python",
   "name": "python",
   "nbconvert_exporter": "python",
   "pygments_lexer": "ipython3",
   "version": "3.6.4"
  }
 },
 "nbformat": 4,
 "nbformat_minor": 2
}
